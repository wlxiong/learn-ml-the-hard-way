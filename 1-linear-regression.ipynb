{
 "cells": [
  {
   "cell_type": "markdown",
   "metadata": {
    "collapsed": true
   },
   "source": [
    "# Linear regresison from scratch"
   ]
  },
  {
   "cell_type": "markdown",
   "metadata": {},
   "source": [
    "很多讲机器学习的书或者课程都是从线性回归 (linear regression) 开始的, 我们也不例外. 以线性回归为起点, 可以很自然的过渡到逻辑回归 (logictic regression), 而多元逻辑回归又可以看作最为简单的神经网络 (neural network).\n",
    "\n",
    "线性回归通过一个线性函数来拟合给定的数据点 $x$ 和目标值 $y$:\n",
    "$$y = w_1 \\cdot x_1 + w_2 \\cdot x_2 + ... + w_N \\cdot x_N$$\n",
    "其中 $w = (w_1, w_2, ..., w_N)^T$ 是待确定的参数.\n",
    "\n",
    "既然是做拟合就会有多个数据点, 假设有 $D$ 对数据点和目标值, 那么就可以得到如下线性方程组:\n",
    "\\begin{align}\n",
    "y_1 &= w_{1} \\cdot x_{11} + w_{2} \\cdot x_{12} + \\ldots + w_{N} \\cdot x_{1N} \\\\\n",
    "y_2 &= w_{1} \\cdot x_{21} + w_{2} \\cdot x_{22} + \\ldots + w_{N} \\cdot x_{2N} \\\\\n",
    "\\ldots \\\\\n",
    "y_D &= w_{1} \\cdot x_{D1} + w_{2} \\cdot x_{D2} + \\ldots + w_{N} \\cdot x_{DN}\n",
    "\\end{align}\n",
    "将 $y_i$ 和 $x_{ij}$ 分别用向量和矩阵表示为:\n",
    "$$\n",
    "y = \\begin{bmatrix}y_1 \\\\ y_2 \\\\ \\vdots \\\\ y_D \\end{bmatrix}\n",
    "$$\n",
    "和\n",
    "$$\n",
    "X = \\begin{bmatrix}\n",
    "x_{11} & x_{12} & \\ldots & x_{1N} \\\\\n",
    "x_{21} & x_{22} & \\ldots & x_{2N} \\\\\n",
    "\\vdots & \\vdots & \\ddots & \\vdots \\\\\n",
    "x_{D1} & x_{D2} & \\ldots & x_{DN} \\\\\n",
    "\\end{bmatrix}\n",
    "$$\n",
    "于是上面的线性方程组就可以写作 $y = Xw$.\n",
    "\n",
    "如果 $D \\leq N$, $w$ 的值可以通过求解上述线性方程组来确定. 当 $D = N$ 并且有解时, 方程组有唯一解 $w = X^{-1}y$. 但是在大部分情况下 $D \\gg N$, 也就是说数据点的个数一般远远大于参数的个数. 这个时候方程组一般没有解. 下面我们将从两个视角讨论如何在这种情况下确定 $w$ 的值.\n",
    "\n",
    "为了方便接下来的讨论, 我们用 $x_{*j}$ 表示矩阵 $X$ 的第 $j$ 列, 用 $x_{i*}$ 表示矩阵 $X$ 的第 $i$ 行:\n",
    "$$\n",
    "X = \\begin{bmatrix}x_{*1} & x_{*2} & \\ldots & x_{*N} \\end{bmatrix}\n",
    "= \\begin{bmatrix}x_{1*} \\\\ x_{2*} \\\\ \\vdots \\\\ x_{D*} \\end{bmatrix}\n",
    "$$"
   ]
  },
  {
   "cell_type": "markdown",
   "metadata": {},
   "source": [
    "## 最小二乘法\n",
    "\n",
    "既然没有办法找到一个 $w$ 使得 $y$ 等于 $Xw$, 那么 $y$ 和 $Xw$ 必然有一个偏差 $\\epsilon = y - Xw$. 现在我们需要考虑如何量化预测值 $Wx$ 和目标值 $y$ 的偏差. 一个显而易见的度量方法就是 $\\epsilon$ 各部分的绝对值的和 $\\sum_{i=1}^D {\\left| \\epsilon_i \\right|}$. 这个和越小意味着预测值和目标值越接近. 于是可以令 $w$ 等于如下极值问题的解:\n",
    "$$\\min_{w \\in R^N} \\sum_{i=1}^D {\\left| \\epsilon_i \\right|} $$\n",
    "即\n",
    "$$\\min_{w \\in R^N} \\sum_{i=1}^D {\\left| y_i - x_{i*} w \\right|} $$\n",
    "由于函数 $f(x) = \\left| x \\right|$ 在原点附近不可导, 求解上面的极值问题并不容易.\n",
    "\n",
    "我们可以稍作改变, 使用残差平方和 $RSS(w) = \\sum_{i=1}^D {\\left( y_i - x_{i*} w \\right)^2}$ 来度量预测值和目标值的偏差, 从而得到一个更容易求解的问题:\n",
    "$$\\min_{w \\in R^N} \\sum_{i=1}^D {\\left( y_i - x_{i*} w \\right)^2} $$\n",
    "这就是我们熟知的最小二乘法.\n",
    "\n",
    "由于上述目标函数处处可导, 那么在取得最小值的时候, 目标函数 $G(w)$ 的梯度等于零 $\\frac{dG(w)}{dw} = 0$. 我们先一步步求偏导:\n",
    "\\begin{align}\n",
    "\\frac{dG(w)}{dw_j} &= \\frac{\\sum_{i=1}^D {\\left( y_i - x_{i*} w \\right)^2}}{dw_j} \\\\\n",
    "&= \\frac{\\sum_{i=1}^D {\\left( y_i - \\sum_{k=1}^N {x_{ik}} w_k \\right)^2}}{dw_j} \\\\\n",
    "&= 2 \\cdot \\sum_{i=1}^D {\\left( y_i - \\sum_{k=1}^N {x_{ik}} w_k \\right) \\cdot \\left( - x_{ij} \\right) }\n",
    "\\end{align}\n",
    "注意到上面公式中的两个求和项都是向量点积, 所以可以重新写作向量形式:\n",
    "\\begin{align}\n",
    "\\frac{dG(w)}{dw_j} &= 2 \\cdot \\sum_{i=1}^D {\\left( y_i - x_{i*} w \\right) \\cdot \\left( - x_{ij} \\right) } \\\\\n",
    "&= -2 \\cdot x_{*j}^T \\cdot \\left( y - X w \\right)\n",
    "\\end{align}\n",
    "\n",
    "梯度的表达式就是所有偏导堆积在一列:\n",
    "$$\n",
    "\\frac{dG(w)}{dw} = \\begin{bmatrix} \\frac{dG(w)}{dw_1} \\\\ \\frac{dG(w)}{dw_2} \\\\ \\vdots \\\\ \\frac{dG(w)}{dw_D} \\end{bmatrix}\n",
    "= -2 \\cdot X^T \\left( y - X w \\right)\n",
    "$$\n",
    "令 $\\frac{dG(w)}{dw} = 0$ 可以得到:\n",
    "\\begin{align}\n",
    "-2 \\cdot X^T \\left( y - X w \\right) &= 0 \\\\\n",
    "X^T \\left( y - X w \\right) &= 0 \\\\\n",
    "X^T y - X^T X w &= 0 \\\\\n",
    "X^T X w &= X^T y\n",
    "\\end{align}\n",
    "我们将上述方程称作正则方程 (noraml equation). 令 $A = X^T X$, $b = X^T y$, 正则方程可以写作 $Aw = b$. 注意到 $A$ 是一个 $N \\times N$ 的矩阵, $b$ 是一个长度为 $N$ 的列向量, 他们的大小只与参数的个数 $N$ 有关, 而与数据点的个数无关. 为了得到 $w$ 的值我们又回到求解线性方程组的问题.\n",
    "\n",
    "接下来我们暂不讨论正则方程的解, 而先来介绍正则方程的几何解释."
   ]
  },
  {
   "cell_type": "markdown",
   "metadata": {},
   "source": [
    "### 正则方程的几何解释\n",
    "\n",
    "首先来看一个简单的一元线性回归问题:\n",
    "$$ y = \\beta x $$\n",
    "对于这个问题我们有如下两组观测值:\n",
    "\n",
    "|   x  |   y  |\n",
    "|------|------|\n",
    "|   1  |  2   |\n",
    "|   2  |  5   |\n",
    "\n",
    "如果要将上述数据可视化, 我们一般会将每一组数据点 (即表格中的每一行) 作为二维平面上的一个点. 那么线性回归就是要找一条尽可能靠近这些点的直线. 注意到的直线 $y = \\beta x$ 一定经过原点, 如下图所示."
   ]
  },
  {
   "cell_type": "code",
   "execution_count": 1,
   "metadata": {},
   "outputs": [
    {
     "data": {
      "text/plain": [
       "Text(2,5,'(2, 5)')"
      ]
     },
     "execution_count": 1,
     "metadata": {},
     "output_type": "execute_result"
    },
    {
     "data": {
      "image/png": "[encoded data removed]",
      "text/plain": [
       "<Figure size 432x288 with 1 Axes>"
      ]
     },
     "metadata": {},
     "output_type": "display_data"
    }
   ],
   "source": [
    "import numpy as np\n",
    "import matplotlib.pyplot as plt\n",
    "%matplotlib inline\n",
    "\n",
    "p1 = (1, 2)\n",
    "p2 = (2, 5)\n",
    "line = zip(np.array([0, 0]), np.array([3, 7]))\n",
    "plt.plot(*p1, 's', *p2, 's', *line)\n",
    "plt.text(*p1, \"(%d, %d)\" % (*p1,), fontsize='large')\n",
    "plt.text(*p2, \"(%d, %d)\" % (*p2,), fontsize='large')"
   ]
  },
  {
   "cell_type": "markdown",
   "metadata": {},
   "source": [
    "上图能给我们一些直观的感受, 比如这些点到直线的距离. 但是我们无法一眼看出哪条直线最靠近这些点."
   ]
  },
  {
   "cell_type": "markdown",
   "metadata": {},
   "source": [
    "从另一个角度来看, 我们可以去观察表格中的每一列, 这样做能给我们带来更深刻的认识. $y = (2, 5)^T$ 这一列代表一个固定的点, $\\beta x$ 代表一条直线上的任意一个点 $p = (\\beta, 2 \\beta)^T$. 而他们的差 $\\epsilon = y - \\beta x$ 代表一条连接 $y$ 和 $p$ 的线段. 实际上 $\\epsilon$ 就是最小二乘法中定义的偏差, 所以最小二乘法做的就是通过移动 $p$ 点 (即选取 $\\beta$ 的值), 让 $y$ 和 $p$ 尽可能的靠近.\n",
    "\n",
    "将他们画在二维平面上就是:"
   ]
  },
  {
   "cell_type": "code",
   "execution_count": 2,
   "metadata": {},
   "outputs": [],
   "source": [
    "def plot_point_and_line(beta):\n",
    "    y = np.array([2, 5])\n",
    "    x = np.array([1, 2])\n",
    "    z = np.array([0, 0])\n",
    "    p = beta * x\n",
    "    y2p = zip(y, p)\n",
    "    line = zip(z, x * 4)\n",
    "    plt.plot(*y, 'rs', *p, 'bo', *line, 'k-', *y2p, 'g-')\n",
    "    plt.text(*y, '    y', fontsize='large')\n",
    "    plt.text(*p, '    p', fontsize='large')"
   ]
  },
  {
   "cell_type": "code",
   "execution_count": 3,
   "metadata": {},
   "outputs": [
    {
     "data": {
      "image/png": "[encoded data removed]",
      "text/plain": [
       "<Figure size 432x288 with 1 Axes>"
      ]
     },
     "metadata": {},
     "output_type": "display_data"
    }
   ],
   "source": [
    "plot_point_and_line(2.15)"
   ]
  },
  {
   "cell_type": "code",
   "execution_count": 4,
   "metadata": {},
   "outputs": [
    {
     "data": {
      "application/vnd.jupyter.widget-view+json": {
       "model_id": "4b929bc946c842d288aed6bb02a518e6",
       "version_major": 2,
       "version_minor": 0
      },
      "text/plain": [
       "interactive(children=(FloatSlider(value=2.0, description='beta', max=4.0, step=0.05), Output()), _dom_classes=…"
      ]
     },
     "metadata": {},
     "output_type": "display_data"
    }
   ],
   "source": [
    "from ipywidgets import interactive\n",
    "interactive(plot_point_and_line, beta=(0, 4, 0.05))"
   ]
  },
  {
   "cell_type": "markdown",
   "metadata": {},
   "source": [
    "显然当代表偏差 $\\epsilon$ 的绿色线段和黑色直线垂直的时候, 绿色线段的长度最小. 绿色线段和黑色直线垂直意味着 $x$ 和 $\\epsilon$ 的点积为零:\n",
    "$$x^T(y - \\beta x) = 0$$\n",
    "上述方程就是一元线性回归的正则方程.\n",
    "\n",
    "如果是多元线性回归, $X$ 的所有列可以生成一个向量空间, $Xw$ 便是这个向量空间中的一个向量. 我们希望 $Xw$ 尽可能的靠近 $y$, 那么 $Xw$ 就应该是 $y$ 在该向量空间上的投影. 也就是说 $y - Xw$ 垂直于该向量空间中的任意一个向量, 它自然也和 $X$ 的列向量垂直, 所以 $y - Xw$ 和 $X$ 的列向量的点积都为零:\n",
    "$$X^T \\left( y - Xw \\right) = 0$$\n",
    "这正是通过最小二乘法得到的正则方程."
   ]
  },
  {
   "cell_type": "markdown",
   "metadata": {},
   "source": [
    "### 求解正则方程\n",
    "\n",
    "由于 $X^T X$ 是一个 $N \\times N$ 的方阵, 所以求解正则方程 $X^T X w = X^T y$ 的关键在于 $X^T X$ 是否可逆. 如果可逆, 方程的解就是 $w = \\left( X^T X \\right)^{-1} X^T y$. 接下来我们来证明只要 $X$ 的列向量是线性独立的, $X^T X$ 就可逆.\n",
    "\n",
    "为了证明上述论断, 需要利用如下命题:\n",
    "> $A^T A$ 和 $A$ 有着相同的 nullspace.\n",
    "\n",
    "矩阵 $A$ 的 nullspace 就是方程 $Ax = 0$ 的所有解组成的向量空间. 显然如果 $Ax = 0$ 必有 $A^T A x = 0$. 也就是说 $A$ 的 nullspace 中的向量也在 $A^T A$ 的 nullspace 中. 另一方面, 如果 $A^T A x = 0$, 可做如下推导:\n",
    "$$ A^T A x = 0 \\rightarrow x^T A^T A x = 0 \\rightarrow \\|Ax\\|^2 = 0 \\rightarrow Ax = 0$$\n",
    "于是我们证明了这两个 nullspace 是一样的.\n",
    "\n",
    "如果 $X$ 的列向量是线性独立的, 那么 $X$ 的 nullspace 就只包含 0. 应用上述命题, $X^T X$ 的 nullspace 也只包含 0. 也就是说 $X^T X$ 的列向量是线性独立的, 所以 $X^T X$ 可逆.\n",
    "\n",
    "如果 $X$ 的列向量不是线性独立的该怎么办? $X$ 的每一列都是针对某一特征的一系列观测值. $X$ 的列向量不是线性独立的, 意味着其中一个特征的观测值完全可以通过对其他特征的观测值进行线性组合得到. 问题出在选取了高度相关的特征上, 可以尝试剔除掉冗余的特征."
   ]
  },
  {
   "cell_type": "markdown",
   "metadata": {},
   "source": [
    "## 极大似然估计\n",
    "\n",
    "一般来说对于一个统计量, 存在着多种估计方法. 极大似然法是估计线性回归参数的另一种方法. 使用极大似然法需要对目标值 $y_i$ 的概率分布做出假设. 在线性回归中我们假设 $y_i$ 都是相互独立的, 并且符合正态分布 $y_i \\sim \\mathcal{N}(x_{i*} w, \\sigma^{2})$. 该分布的密度函数为:\n",
    "$$\n",
    "\\varphi(y) = \\frac{1}{\\sigma\\sqrt{2\\pi}} \\exp \\left( - \\frac{\\left( y - x_{i*} w \\right)^2}{2 \\sigma^2} \\right)\n",
    "$$\n",
    "\n",
    "那么一组数据 $(x_i, y_i)$ 的似然函数就是:\n",
    "\\begin{align}\n",
    "L(w) &= \\prod_{i=0}^D {L \\left(w | x_i, y_i \\right)} \\\\\n",
    "&= \\prod_{i=0}^D {\\varphi(y_i)}\n",
    "\\end{align}\n",
    "$w$ 的极大似然估计就是如下最大值问题的解:\n",
    "$$\\max_{w} L(w)$$\n",
    "\n",
    "因为 $\\log(x)$ 是单调递增函数, 所以为了计算方便, 可以最大化对数似然函数:\n",
    "$$\\max_{w} LL(w)$$\n",
    "其中 $LL(w)$\n",
    "\\begin{align}\n",
    "LL(w) &= \\log L(w) \\\\\n",
    "&= \\log{ \\prod_{i=0}^D {\\varphi(y_i)} } \\\\\n",
    "&= \\sum_{i=0}^D \\log {\\varphi(y_i)} \\\\\n",
    "&= \\sum_{i=0}^D { \\left( \\log \\left( \\frac{1}{\\sigma\\sqrt{2\\pi}} \\right) - \\frac{\\left( y - x_{i*} w \\right)^2}{2 \\sigma^2} \\right) } \\\\\n",
    "&= D \\log \\left( \\frac{1}{\\sigma\\sqrt{2\\pi}} \\right) - \\frac{1}{2 \\sigma^2} \\sum_{i=0}^D { \\left( y - x_{i*} w \\right)^2 } \\\\\n",
    "\\end{align}\n",
    "\n",
    "上述函数的第一项是常数, 在求解最大值的时候可以将其舍去. 第二项前面的常数 $\\frac{1}{2 \\sigma^2}$ 同样不会改变最大值问题的解. 于是简化为求解如下最大值问题:\n",
    "$$\\max_w -\\sum_{i=0}^D { \\left( y - x_{i*} w \\right)^2}$$\n",
    "即\n",
    "$$\\min_w \\sum_{i=0}^D { \\left( y - x_{i*} w \\right)^2}$$\n",
    "这正是最小二乘法对应的极值问题.\n",
    "\n",
    "参数 $w$ 的最大似然估计和通过最小二乘法得到的值是一样的. 这是正态分布概率密度函数的表达式决定的. 如果换一个概率分布, 使用两种方法得到的估计值就可能不同. 在机器学习中, LL(w) 和 RSS(w) 被叫做损失函数, 那么恰巧这两个损失函数取极值的时候 $w$ 的值相同."
   ]
  },
  {
   "cell_type": "markdown",
   "metadata": {},
   "source": [
    "## 梯度下降法"
   ]
  },
  {
   "cell_type": "code",
   "execution_count": 5,
   "metadata": {},
   "outputs": [],
   "source": [
    "num_inputs = 2\n",
    "num_outputs = 1\n",
    "num_examples = 10000"
   ]
  },
  {
   "cell_type": "code",
   "execution_count": 6,
   "metadata": {},
   "outputs": [],
   "source": [
    "def real_fn(X):\n",
    "    return 2 * X[:, 0] - 3.4 * X[:, 1] + 4.2"
   ]
  },
  {
   "cell_type": "code",
   "execution_count": 7,
   "metadata": {},
   "outputs": [],
   "source": [
    "x = np.random.randn(num_examples, num_inputs)\n",
    "noise = .1 * np.random.randn(num_examples)\n",
    "y = real_fn(x) + noise"
   ]
  },
  {
   "cell_type": "code",
   "execution_count": 8,
   "metadata": {},
   "outputs": [
    {
     "data": {
      "text/plain": [
       "((10000, 2), (10000,))"
      ]
     },
     "execution_count": 8,
     "metadata": {},
     "output_type": "execute_result"
    }
   ],
   "source": [
    "x.shape, y.shape"
   ]
  },
  {
   "cell_type": "code",
   "execution_count": 9,
   "metadata": {},
   "outputs": [
    {
     "data": {
      "text/plain": [
       "<matplotlib.collections.PathCollection at 0x1ef9f625fd0>"
      ]
     },
     "execution_count": 9,
     "metadata": {},
     "output_type": "execute_result"
    },
    {
     "data": {
      "image/png": "[encoded data removed]",
      "text/plain": [
       "<Figure size 432x288 with 1 Axes>"
      ]
     },
     "metadata": {},
     "output_type": "display_data"
    }
   ],
   "source": [
    "plt.scatter(x[:, 0], y)"
   ]
  },
  {
   "cell_type": "code",
   "execution_count": 10,
   "metadata": {},
   "outputs": [],
   "source": [
    "def linear_regression(x, w, b):\n",
    "    return np.dot(x, np.squeeze(w)) + b"
   ]
  },
  {
   "cell_type": "code",
   "execution_count": 11,
   "metadata": {},
   "outputs": [],
   "source": [
    "def square_loss(yhat, y):\n",
    "    return np.mean((yhat - y) ** 2)"
   ]
  },
  {
   "cell_type": "code",
   "execution_count": 12,
   "metadata": {},
   "outputs": [],
   "source": [
    "def gradient(w, b, x, y):\n",
    "    # obj func sum(G(w, b)) / N\n",
    "    #   where G(w, b) = [(wx + b) - y].^2\n",
    "    # DG(w, b) / dw\n",
    "    #   = 2 * (wx + b - y) * D(wx + b - y) / dw\n",
    "    #   = 2 * (wx + b - y) * x\n",
    "    # DG(w, b) / db\n",
    "    #   = 2 * (wx + b - y) * D(wx + b - y) / db\n",
    "    #   = 2 * (wx + b - y)\n",
    "    z = 2 * (np.dot(x, np.squeeze(w)) + b - y)\n",
    "    #print([z.shape, x.shape, np.squeeze(w).shape])\n",
    "    return np.mean(z[:, np.newaxis] * x, axis=0), np.mean(z)"
   ]
  },
  {
   "cell_type": "code",
   "execution_count": 13,
   "metadata": {},
   "outputs": [],
   "source": [
    "def sgd_update(w, b, x, y, rate):\n",
    "    grad_w, grad_b = gradient(w, b, x, y)\n",
    "#     print(grad_w)\n",
    "#     print(grad_b)\n",
    "    w[:] = w - rate * grad_w[:, np.newaxis]\n",
    "    b[:] = b - rate * grad_b\n",
    "    return w, b"
   ]
  },
  {
   "cell_type": "code",
   "execution_count": 14,
   "metadata": {},
   "outputs": [
    {
     "data": {
      "text/plain": [
       "(20000,\n",
       " array([array([1.59624683, 0.88651093]), 4.565802713974116], dtype=object))"
      ]
     },
     "execution_count": 14,
     "metadata": {},
     "output_type": "execute_result"
    }
   ],
   "source": [
    "z = np.array(list(zip(x, y)))\n",
    "np.random.shuffle(z)\n",
    "z.size, z[0]"
   ]
  },
  {
   "cell_type": "code",
   "execution_count": 15,
   "metadata": {},
   "outputs": [
    {
     "data": {
      "text/plain": [
       "(2500.0, array([[array([1.59624683, 0.88651093]), 4.565802713974116],\n",
       "        [array([0.16996406, 0.39040957]), 3.111253237981017],\n",
       "        [array([0.3209733 , 0.17646628]), 4.506180005847527],\n",
       "        [array([1.37973322, 0.60450899]), 4.636836359209813]], dtype=object))"
      ]
     },
     "execution_count": 15,
     "metadata": {},
     "output_type": "execute_result"
    }
   ],
   "source": [
    "batch_size = 4\n",
    "num_batches = num_examples / batch_size\n",
    "batches = np.array_split(z, num_batches)\n",
    "num_batches, batches[0]"
   ]
  },
  {
   "cell_type": "code",
   "execution_count": 16,
   "metadata": {},
   "outputs": [],
   "source": [
    "bx, by = zip(*batches[0])\n",
    "bx, by = np.array(bx), np.array(by)"
   ]
  },
  {
   "cell_type": "code",
   "execution_count": 17,
   "metadata": {},
   "outputs": [],
   "source": [
    "epochs = 10\n",
    "learning_rate = .0001"
   ]
  },
  {
   "cell_type": "code",
   "execution_count": 18,
   "metadata": {},
   "outputs": [],
   "source": [
    "w = np.random.randn(num_inputs, num_outputs)\n",
    "b = np.random.randn(num_outputs)"
   ]
  },
  {
   "cell_type": "code",
   "execution_count": 19,
   "metadata": {},
   "outputs": [
    {
     "name": "stdout",
     "output_type": "stream",
     "text": [
      "22.958831407088788\n",
      "8.411253075186549\n",
      "3.0858344122525985\n",
      "1.136141137498014\n",
      "0.42225645670649326\n",
      "0.16083666439365543\n",
      "0.06509601627715997\n",
      "0.030028923718637787\n",
      "0.01718359276072464\n",
      "0.01247785778453791\n"
     ]
    }
   ],
   "source": [
    "for e in range(epochs):\n",
    "    cumulative_loss = 0\n",
    "    for batch in batches:\n",
    "        bx, by = zip(*batch)\n",
    "        bx, by = np.array(bx), np.array(by)\n",
    "        yhat = linear_regression(bx, w, b)\n",
    "        loss = square_loss(yhat, by)\n",
    "        cumulative_loss += loss\n",
    "        sgd_update(w, b, bx, by, learning_rate)\n",
    "    print(cumulative_loss / num_batches)"
   ]
  },
  {
   "cell_type": "code",
   "execution_count": 20,
   "metadata": {},
   "outputs": [
    {
     "data": {
      "text/plain": [
       "array([[ 1.98243805],\n",
       "       [-3.37367563]])"
      ]
     },
     "execution_count": 20,
     "metadata": {},
     "output_type": "execute_result"
    }
   ],
   "source": [
    "w"
   ]
  },
  {
   "cell_type": "code",
   "execution_count": 21,
   "metadata": {},
   "outputs": [
    {
     "data": {
      "text/plain": [
       "array([4.17515803])"
      ]
     },
     "execution_count": 21,
     "metadata": {},
     "output_type": "execute_result"
    }
   ],
   "source": [
    "b"
   ]
  }
 ],
 "metadata": {
  "anaconda-cloud": {},
  "kernelspec": {
   "display_name": "Python 3",
   "language": "python",
   "name": "python3"
  },
  "language_info": {
   "codemirror_mode": {
    "name": "ipython",
    "version": 3
   },
   "file_extension": ".py",
   "mimetype": "text/x-python",
   "name": "python",
   "nbconvert_exporter": "python",
   "pygments_lexer": "ipython3",
   "version": "3.6.5"
  }
 },
 "nbformat": 4,
 "nbformat_minor": 1
}
