{
 "cells": [
  {
   "cell_type": "markdown",
   "metadata": {},
   "source": [
    "# Multiclass logistic regression\n",
    "\n",
    "https://gluon.mxnet.io/chapter02_supervised-learning/softmax-regression-scratch.html"
   ]
  },
  {
   "cell_type": "code",
   "execution_count": 1,
   "metadata": {
    "collapsed": true
   },
   "outputs": [],
   "source": [
    "import gzip\n",
    "import array\n",
    "import struct\n",
    "import numpy as np\n",
    "import matplotlib.pyplot as plt\n",
    "\n",
    "%matplotlib inline"
   ]
  },
  {
   "cell_type": "code",
   "execution_count": 2,
   "metadata": {
    "collapsed": false
   },
   "outputs": [],
   "source": [
    "def read_int32(fin):\n",
    "    buf = fin.read(4)\n",
    "    return struct.unpack('>i', buf)[0]\n",
    "\n",
    "def read_byte(fin):\n",
    "    buf = fin.read(1)\n",
    "    return struct.unpack('B', buf)[0]\n",
    "\n",
    "def read_images(fin):\n",
    "    magic = read_int32(fin)\n",
    "    assert magic == 0x00000803, \"magic number != 0x%08x\" % magic\n",
    "    num_images = read_int32(fin)\n",
    "    num_rows = read_int32(fin)\n",
    "    num_cols = read_int32(fin)\n",
    "    data = array.array('B')\n",
    "    data.fromfile(fin, num_images * num_rows * num_cols)\n",
    "    return np.array(data).reshape((num_images, num_rows, num_cols))\n",
    "\n",
    "def read_labels(fin):\n",
    "    magic = read_int32(fin)\n",
    "    assert magic == 0x00000801, \"magic number != 0x%08x\" % magic\n",
    "    num_labels = read_int32(fin)\n",
    "    data = array.array('B')\n",
    "    data.fromfile(fin, num_labels)\n",
    "    return np.array(data)"
   ]
  },
  {
   "cell_type": "code",
   "execution_count": 3,
   "metadata": {
    "collapsed": false
   },
   "outputs": [
    {
     "data": {
      "text/plain": [
       "((60000, 28, 28), (60000,), (10000, 28, 28), (10000,))"
      ]
     },
     "execution_count": 3,
     "metadata": {},
     "output_type": "execute_result"
    }
   ],
   "source": [
    "with gzip.open('data/3/train-images-idx3-ubyte.gz') as fin:\n",
    "    train_images = read_images(fin)\n",
    "\n",
    "with gzip.open('data/3/train-labels-idx1-ubyte.gz') as fin:\n",
    "    train_labels = read_labels(fin)\n",
    "\n",
    "with gzip.open('data/3/t10k-images-idx3-ubyte.gz') as fin:\n",
    "    test_images = read_images(fin)\n",
    "\n",
    "with gzip.open('data/3/t10k-labels-idx1-ubyte.gz') as fin:\n",
    "    test_labels = read_labels(fin)\n",
    "\n",
    "train_images.shape, train_labels.shape, test_images.shape, test_labels.shape"
   ]
  },
  {
   "cell_type": "code",
   "execution_count": 4,
   "metadata": {
    "collapsed": true
   },
   "outputs": [],
   "source": [
    "def show_image(img):\n",
    "    img = np.tile(img[:, :, np.newaxis], (1, 1, 3))\n",
    "    plt.imshow(img, )"
   ]
  },
  {
   "cell_type": "code",
   "execution_count": 5,
   "metadata": {
    "collapsed": false
   },
   "outputs": [
    {
     "data": {
      "image/png": "[encoded data removed]",
      "text/plain": [
       "<matplotlib.figure.Figure at 0x2e61c1bce80>"
      ]
     },
     "metadata": {},
     "output_type": "display_data"
    }
   ],
   "source": [
    "show_image(train_images[0])"
   ]
  },
  {
   "cell_type": "code",
   "execution_count": 6,
   "metadata": {
    "collapsed": false
   },
   "outputs": [
    {
     "data": {
      "text/plain": [
       "5"
      ]
     },
     "execution_count": 6,
     "metadata": {},
     "output_type": "execute_result"
    }
   ],
   "source": [
    "train_labels[0]"
   ]
  },
  {
   "cell_type": "code",
   "execution_count": 7,
   "metadata": {
    "collapsed": true
   },
   "outputs": [],
   "source": [
    "num_examples, num_rows, num_cols = train_images.shape\n",
    "num_tests, _, _ = test_images.shape\n",
    "num_inputs = num_rows * num_cols\n",
    "num_outputs = 10"
   ]
  },
  {
   "cell_type": "code",
   "execution_count": 8,
   "metadata": {
    "collapsed": true
   },
   "outputs": [],
   "source": [
    "train_data = train_images.reshape(num_examples, num_rows * num_cols)\n",
    "test_data = test_images.reshape(num_tests, num_rows * num_cols)"
   ]
  },
  {
   "cell_type": "code",
   "execution_count": 9,
   "metadata": {
    "collapsed": false
   },
   "outputs": [
    {
     "data": {
      "text/plain": [
       "((60000, 784), (10000, 784))"
      ]
     },
     "execution_count": 9,
     "metadata": {},
     "output_type": "execute_result"
    }
   ],
   "source": [
    "train_data.shape, test_data.shape"
   ]
  },
  {
   "cell_type": "code",
   "execution_count": 10,
   "metadata": {
    "collapsed": false
   },
   "outputs": [],
   "source": [
    "W = np.random.randn(num_inputs, num_outputs)\n",
    "b = np.random.randn(num_outputs)"
   ]
  },
  {
   "cell_type": "code",
   "execution_count": null,
   "metadata": {
    "collapsed": true
   },
   "outputs": [],
   "source": []
  }
 ],
 "metadata": {
  "anaconda-cloud": {},
  "kernelspec": {
   "display_name": "Python [conda root]",
   "language": "python",
   "name": "conda-root-py"
  },
  "language_info": {
   "codemirror_mode": {
    "name": "ipython",
    "version": 3
   },
   "file_extension": ".py",
   "mimetype": "text/x-python",
   "name": "python",
   "nbconvert_exporter": "python",
   "pygments_lexer": "ipython3",
   "version": "3.5.2"
  }
 },
 "nbformat": 4,
 "nbformat_minor": 1
}
