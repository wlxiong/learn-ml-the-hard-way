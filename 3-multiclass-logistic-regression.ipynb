{
 "cells": [
  {
   "cell_type": "markdown",
   "metadata": {},
   "source": [
    "# Multiclass logistic regression\n",
    "\n",
    "https://gluon.mxnet.io/chapter02_supervised-learning/softmax-regression-scratch.html"
   ]
  },
  {
   "cell_type": "code",
   "execution_count": 1,
   "metadata": {},
   "outputs": [],
   "source": [
    "import gzip\n",
    "import array\n",
    "import struct\n",
    "import numpy as np\n",
    "import matplotlib.pyplot as plt\n",
    "\n",
    "%matplotlib inline"
   ]
  },
  {
   "cell_type": "code",
   "execution_count": 2,
   "metadata": {},
   "outputs": [],
   "source": [
    "def read_int32(fin):\n",
    "    buf = fin.read(4)\n",
    "    return struct.unpack('>i', buf)[0]\n",
    "\n",
    "def read_byte(fin):\n",
    "    buf = fin.read(1)\n",
    "    return struct.unpack('B', buf)[0]\n",
    "\n",
    "def read_images(fin):\n",
    "    magic = read_int32(fin)\n",
    "    assert magic == 0x00000803, \"magic number != 0x%08x\" % magic\n",
    "    num_images = read_int32(fin)\n",
    "    num_rows = read_int32(fin)\n",
    "    num_cols = read_int32(fin)\n",
    "    data = array.array('B')\n",
    "    data.fromfile(fin, num_images * num_rows * num_cols)\n",
    "    return np.array(data).reshape((num_images, num_rows, num_cols))\n",
    "\n",
    "def read_labels(fin):\n",
    "    magic = read_int32(fin)\n",
    "    assert magic == 0x00000801, \"magic number != 0x%08x\" % magic\n",
    "    num_labels = read_int32(fin)\n",
    "    data = array.array('B')\n",
    "    data.fromfile(fin, num_labels)\n",
    "    return np.array(data)"
   ]
  },
  {
   "cell_type": "code",
   "execution_count": 3,
   "metadata": {},
   "outputs": [
    {
     "data": {
      "text/plain": [
       "((60000, 28, 28), (60000,), (10000, 28, 28), (10000,))"
      ]
     },
     "execution_count": 3,
     "metadata": {},
     "output_type": "execute_result"
    }
   ],
   "source": [
    "with gzip.open('data/mnist/train-images-idx3-ubyte.gz') as fin:\n",
    "    train_images = read_images(fin)\n",
    "\n",
    "with gzip.open('data/mnist/train-labels-idx1-ubyte.gz') as fin:\n",
    "    train_labels = read_labels(fin)\n",
    "\n",
    "with gzip.open('data/mnist/t10k-images-idx3-ubyte.gz') as fin:\n",
    "    test_images = read_images(fin)\n",
    "\n",
    "with gzip.open('data/mnist/t10k-labels-idx1-ubyte.gz') as fin:\n",
    "    test_labels = read_labels(fin)\n",
    "\n",
    "train_images.shape, train_labels.shape, test_images.shape, test_labels.shape"
   ]
  },
  {
   "cell_type": "code",
   "execution_count": 4,
   "metadata": {},
   "outputs": [],
   "source": [
    "def show_image(img, title=\"\"):\n",
    "    img = np.tile(img[:, :, np.newaxis], (1, 1, 3))\n",
    "    plt.figure()\n",
    "    plt.title(title)\n",
    "    return plt.imshow(img,)"
   ]
  },
  {
   "cell_type": "code",
   "execution_count": 5,
   "metadata": {},
   "outputs": [
    {
     "data": {
      "text/plain": [
       "<matplotlib.image.AxesImage at 0x27665f30908>"
      ]
     },
     "execution_count": 5,
     "metadata": {},
     "output_type": "execute_result"
    },
    {
     "data": {
      "image/png": "[encoded data removed]",
      "text/plain": [
       "<Figure size 432x288 with 1 Axes>"
      ]
     },
     "metadata": {},
     "output_type": "display_data"
    }
   ],
   "source": [
    "show_image(train_images[0])"
   ]
  },
  {
   "cell_type": "code",
   "execution_count": 6,
   "metadata": {},
   "outputs": [
    {
     "data": {
      "text/plain": [
       "5"
      ]
     },
     "execution_count": 6,
     "metadata": {},
     "output_type": "execute_result"
    }
   ],
   "source": [
    "train_labels[0]"
   ]
  },
  {
   "cell_type": "code",
   "execution_count": 7,
   "metadata": {},
   "outputs": [],
   "source": [
    "num_examples, num_rows, num_cols = train_images.shape\n",
    "num_tests, _, _ = test_images.shape\n",
    "num_inputs = num_rows * num_cols\n",
    "num_outputs = 10"
   ]
  },
  {
   "cell_type": "code",
   "execution_count": 8,
   "metadata": {},
   "outputs": [],
   "source": [
    "train_inputs = train_images.reshape(num_examples, num_inputs) / 255\n",
    "test_inputs = test_images.reshape(num_tests, num_inputs) / 255"
   ]
  },
  {
   "cell_type": "code",
   "execution_count": 9,
   "metadata": {},
   "outputs": [
    {
     "data": {
      "text/plain": [
       "((60000, 784), (60000, 784))"
      ]
     },
     "execution_count": 9,
     "metadata": {},
     "output_type": "execute_result"
    }
   ],
   "source": [
    "train_inputs.shape, train_inputs.shape"
   ]
  },
  {
   "cell_type": "code",
   "execution_count": 10,
   "metadata": {},
   "outputs": [],
   "source": [
    "from common import transform_to_one_hot"
   ]
  },
  {
   "cell_type": "code",
   "execution_count": 11,
   "metadata": {},
   "outputs": [],
   "source": [
    "train_outputs = transform_to_one_hot(train_labels, num_outputs)\n",
    "test_outputs = transform_to_one_hot(test_labels, num_outputs)"
   ]
  },
  {
   "cell_type": "code",
   "execution_count": 12,
   "metadata": {},
   "outputs": [
    {
     "data": {
      "text/plain": [
       "((60000, 10), (10000, 10))"
      ]
     },
     "execution_count": 12,
     "metadata": {},
     "output_type": "execute_result"
    }
   ],
   "source": [
    "train_outputs.shape, test_outputs.shape"
   ]
  },
  {
   "cell_type": "code",
   "execution_count": 13,
   "metadata": {},
   "outputs": [],
   "source": [
    "from common import split_data\n",
    "batch_size = 64\n",
    "train_data = split_data(train_inputs, train_outputs, batch_size)\n",
    "test_data = split_data(test_inputs, test_outputs, batch_size)"
   ]
  },
  {
   "cell_type": "markdown",
   "metadata": {},
   "source": [
    "$$softmax(z) = \\frac{\\exp(z)}{\\sum_{i = 1}^{k} \\exp(z_i)}$$\n",
    "$$\\hat{y} = softmax(xW + b)$$\n",
    "$$\\min_{W, b} - \\sum_{j} {y_j \\cdot \\log{(\\hat{y}_j + 10^{-6})}}$$"
   ]
  },
  {
   "cell_type": "code",
   "execution_count": 14,
   "metadata": {},
   "outputs": [],
   "source": [
    "# yhat, y: (num_examples, num_outputs)\n",
    "# return: (num_examples,)\n",
    "def cross_entropy(yhat, y):\n",
    "    return - np.sum(y * np.log(yhat+1e-6))"
   ]
  },
  {
   "cell_type": "code",
   "execution_count": 15,
   "metadata": {},
   "outputs": [],
   "source": [
    "# yhat, y: (num_examples, num_outputs)\n",
    "# return: (num_examples, num_outputs)\n",
    "def grad_cross_entropy(yhat, y):\n",
    "    # D(y * log(yhat + 1e-6)) / dyhat\n",
    "    # = y / (yhat + 1e-6)\n",
    "    return - y / (yhat + 1e-6)"
   ]
  },
  {
   "cell_type": "code",
   "execution_count": 16,
   "metadata": {},
   "outputs": [],
   "source": [
    "# W: (num_inputs, num_outputs)\n",
    "# b: (num_outputs,)\n",
    "# x: (num_examples, num_inputs)\n",
    "# return: (num_examples, num_outputs)\n",
    "def linear_transform(W, b, x):\n",
    "    return np.dot(x, W) + b"
   ]
  },
  {
   "cell_type": "code",
   "execution_count": 17,
   "metadata": {},
   "outputs": [],
   "source": [
    "# z: (num_examples, num_outputs)\n",
    "# return: (num_examples, num_outputs)\n",
    "def softmax(z):\n",
    "    z_min = np.min(z, axis=1)\n",
    "    z = z - z_min[:, np.newaxis]\n",
    "    exp = np.exp(z)\n",
    "    sum_exp = np.sum(exp, axis=1)[:, np.newaxis]\n",
    "    return exp / sum_exp"
   ]
  },
  {
   "cell_type": "code",
   "execution_count": 18,
   "metadata": {},
   "outputs": [],
   "source": [
    "# z: (num_examples, num_outputs)\n",
    "# return: (num_examples, num_outputs, num_outputs)\n",
    "def grad_softmax(z):\n",
    "    # diag\n",
    "    # D(softmax) / dz_i\n",
    "    # = D(exp(z_i) * sum(exp(z))^-1) / dz_i\n",
    "    # = D(exp(z_i)) / dz * sum(exp(z))^-1 + exp(z_i) * D(sum(exp(z))^-1) / dz_i\n",
    "    # = exp(z_i) * sum(exp(z))^-1 + exp(z_i) * -1 * sum(exp(z))^-2 * exp(z_i)\n",
    "    # = exp(z_i) / sum(exp(z)) - exp(z_i)^2 / sum(exp(z))^2\n",
    "    \n",
    "    # off diag\n",
    "    # D(softmax) / dz_j\n",
    "    # = D(exp(z_i) * sum(exp(z))^-1) / dz_j\n",
    "    # = exp(z_i) * D(sum(exp(z))^-1) / dz_j)\n",
    "    # = exp(z_i) * -1 * sum(exp(z))^-2 * exp(z_j)\n",
    "    # = - exp(z_i) * exp(z_j) / sum(exp(z))^2\n",
    "    \n",
    "    z_min = np.min(z, axis=1)\n",
    "    z = z - z_min[:, np.newaxis]\n",
    "    exp = np.exp(z)\n",
    "    sum_exp = np.sum(exp, axis=1)\n",
    "    outer_mat = - np.einsum(\"ij,ik->ijk\", exp, exp)\n",
    "    outer_mat /= sum_exp[:, np.newaxis, np.newaxis]**2\n",
    "    diag = exp / sum_exp[:, np.newaxis]\n",
    "    diag_idx = np.arange(diag.shape[1])\n",
    "    outer_mat[:, diag_idx, diag_idx] += diag\n",
    "    return outer_mat"
   ]
  },
  {
   "cell_type": "code",
   "execution_count": 19,
   "metadata": {},
   "outputs": [],
   "source": [
    "# W: (num_outputs, num_inputs)\n",
    "# b: (num_outputs,)\n",
    "# x: (num_examples, num_inputs)\n",
    "# return grad_W: (num_examples, num_outputs, num_inputs)\n",
    "# return grad_b: (num_examples, num_outputs, num_inputs)\n",
    "def grad_linear_transform(W, b, x):\n",
    "    num_examples = x.shape[0]\n",
    "    num_outputs, num_inputs = W.shape\n",
    "    grad_W = np.tile(x[:, np.newaxis, :], (1, num_outputs, 1))\n",
    "    grad_b = np.tile(np.ones((num_outputs, num_inputs)), (num_examples, 1, 1))\n",
    "    return grad_W, grad_b"
   ]
  },
  {
   "cell_type": "code",
   "execution_count": 20,
   "metadata": {},
   "outputs": [],
   "source": [
    "def gradient(W, b, x, y):\n",
    "    z = linear_transform(W, b, x)\n",
    "#     print(\"z\", z)\n",
    "    yhat = softmax(z)\n",
    "#     print(\"yhat\", yhat)\n",
    "    dCE = grad_cross_entropy(yhat, y)\n",
    "#     print(\"dCE\", dCE)\n",
    "    dSM = grad_softmax(z)\n",
    "#     print(\"dSM\", dSM)\n",
    "    dCE_dz = np.einsum(\"ik,ikj->ij\", dCE, dSM)\n",
    "#     print(dCE.shape, dSM.shape, dCE_dz.shape)\n",
    "    grad_dW = np.einsum(\"ij,ik->ijk\", x, dCE_dz)\n",
    "#     print(\"grad_dW\", grad_dW)\n",
    "    grad_db = dCE_dz\n",
    "#     print(\"grad_db\", grad_db)\n",
    "    sum_grad_dW = np.sum(grad_dW, axis=0)\n",
    "    sum_grad_db = np.sum(grad_db, axis=0)\n",
    "    return sum_grad_dW, sum_grad_db"
   ]
  },
  {
   "cell_type": "code",
   "execution_count": 21,
   "metadata": {},
   "outputs": [],
   "source": [
    "def rand_prob_dist(example_count, choice_count):\n",
    "    yhat = np.random.uniform(size=(example_count, choice_count))\n",
    "    yhat = yhat / np.sum(yhat, axis=1)[:, np.newaxis]\n",
    "    return yhat\n",
    "\n",
    "def rand_one_hot(example_count, choice_count):\n",
    "    r = np.random.uniform(size=(example_count, choice_count))\n",
    "    a = np.argmax(r, axis=1)\n",
    "    y = np.zeros((example_count, num_outputs))\n",
    "    y[np.arange(a.size), a] = 1\n",
    "    return y"
   ]
  },
  {
   "cell_type": "code",
   "execution_count": 22,
   "metadata": {},
   "outputs": [],
   "source": [
    "def calc_numeric_grad(func, x, delta=1e-3):\n",
    "    y = func(x)\n",
    "    input_size = 1 if np.isscalar(x) else x.size\n",
    "    output_size = 1 if np.isscalar(y) else y.size\n",
    "    delta_mat = np.identity(input_size) * delta\n",
    "    grad = np.zeros((output_size, input_size))\n",
    "    for i in range(input_size):\n",
    "        h = delta_mat[i]\n",
    "        y_ = func(x + h)\n",
    "        g = (y_ - y) / delta\n",
    "        grad[:, i] = g\n",
    "    return grad"
   ]
  },
  {
   "cell_type": "code",
   "execution_count": 23,
   "metadata": {},
   "outputs": [
    {
     "name": "stdout",
     "output_type": "stream",
     "text": [
      "numeric [[ -10.84588261   -8.3003734   -20.8498953   -14.62199995  -11.19968189\n",
      "    -6.12596451 -113.92410756   -8.93292825   -5.8998468    -7.50658541]]\n",
      "grad [[ -10.90491242   -8.334917    -21.06877292  -14.72942434  -11.26263311\n",
      "    -6.1447666  -120.66707149   -8.97294593   -5.91728518   -7.53483045]]\n",
      "diff [[0.0590298  0.03454361 0.21887761 0.10742439 0.06295123 0.01880209\n",
      "  6.74296394 0.04001767 0.01743837 0.02824504]]\n"
     ]
    }
   ],
   "source": [
    "def test_grad_cross_entropy(delta=1e-4):\n",
    "    yhat = rand_prob_dist(1, num_outputs)\n",
    "#     y = rand_one_hot(1, num_outputs)\n",
    "    y = np.ones(num_outputs)\n",
    "    grad1 = calc_numeric_grad(lambda x: cross_entropy(x, y), yhat)\n",
    "    grad2 = grad_cross_entropy(yhat, y)\n",
    "    print(\"numeric\", grad1)\n",
    "    print(\"grad\", grad2)\n",
    "    print(\"diff\", grad1 - grad2)\n",
    "\n",
    "test_grad_cross_entropy()"
   ]
  },
  {
   "cell_type": "code",
   "execution_count": 24,
   "metadata": {},
   "outputs": [
    {
     "name": "stdout",
     "output_type": "stream",
     "text": [
      "numeric [[[ 0.2292717  -0.12257647 -0.10680187]\n",
      "  [-0.12252088  0.1541454  -0.0315697 ]\n",
      "  [-0.10675082 -0.03156893  0.13837157]]\n",
      "\n",
      " [[ 0.04231292 -0.00806286 -0.03422397]\n",
      "  [-0.00806397  0.14901617 -0.14086997]\n",
      "  [-0.03424894 -0.14095331  0.17509394]]]\n",
      "grad [[[ 0.22930471 -0.12253852 -0.10676619]\n",
      "  [-0.12253852  0.15409767 -0.03155916]\n",
      "  [-0.10676619 -0.03155916  0.13832534]]\n",
      "\n",
      " [[ 0.04229364 -0.0080603  -0.03423334]\n",
      "  [-0.0080603   0.14896882 -0.14090852]\n",
      "  [-0.03423334 -0.14090852  0.17514186]]]\n",
      "diff [[[-3.30018099e-05 -3.79493891e-05 -3.56818905e-05]\n",
      "  [ 1.76358913e-05  4.77230563e-05 -1.05472561e-05]\n",
      "  [ 1.53659186e-05 -9.77366705e-06  4.62291467e-05]]\n",
      "\n",
      " [[ 1.92805073e-05 -2.56214099e-06  9.36660455e-06]\n",
      "  [-3.67446888e-06  4.73529720e-05  3.85540661e-05]\n",
      "  [-1.56060384e-05 -4.47908310e-05 -4.79206706e-05]]]\n"
     ]
    }
   ],
   "source": [
    "def test_grad_softmax(delta=1e-3):\n",
    "    z = np.random.randn(2, 3)\n",
    "    h = rand_one_hot(1, num_outputs) * delta\n",
    "    grad1 = np.array([calc_numeric_grad(softmax, r[np.newaxis, :]) for r in z])\n",
    "    grad2 = grad_softmax(z)\n",
    "    print(\"numeric\", grad1)\n",
    "    print(\"grad\", grad2)\n",
    "    print(\"diff\", grad1 - grad2)\n",
    "\n",
    "test_grad_softmax()"
   ]
  },
  {
   "cell_type": "code",
   "execution_count": 25,
   "metadata": {},
   "outputs": [],
   "source": [
    "def sgd_update(W, b, x, y, rate):\n",
    "    grad_W, grad_b = gradient(W, b, x, y)\n",
    "#     print(\"grad_W\", grad_W)\n",
    "#     print(\"grad_b\", grad_b)\n",
    "    W[:] = W - rate * grad_W\n",
    "    b[:] = b - rate * grad_b\n",
    "    return W, b"
   ]
  },
  {
   "cell_type": "code",
   "execution_count": 26,
   "metadata": {},
   "outputs": [],
   "source": [
    "epochs = 10\n",
    "learning_rate = .002\n",
    "\n",
    "W = np.random.randn(num_inputs, num_outputs)\n",
    "b = np.random.randn(num_outputs)"
   ]
  },
  {
   "cell_type": "code",
   "execution_count": 27,
   "metadata": {},
   "outputs": [
    {
     "name": "stdout",
     "output_type": "stream",
     "text": [
      "105925.31266561063\n",
      "48872.9718974894\n",
      "40417.68213083353\n",
      "36048.89426447478\n",
      "33215.663578904816\n",
      "31157.593320908447\n",
      "29558.168373233413\n",
      "28261.07566786196\n",
      "27178.91911742609\n",
      "26256.953133656083\n"
     ]
    }
   ],
   "source": [
    "for e in range(epochs):\n",
    "    cumulative_cross_entroy = 0\n",
    "    for bx, by in train_data:\n",
    "#         print(W.shape)\n",
    "#         print(W)\n",
    "#         print(b.shape)\n",
    "#         print(b)\n",
    "        z = linear_transform(W, b, bx)\n",
    "        yhat = softmax(z)\n",
    "        loss = cross_entropy(yhat, by)\n",
    "        cumulative_cross_entroy += loss\n",
    "        sgd_update(W, b, bx, by, learning_rate)\n",
    "#         print(W.shape)\n",
    "#         print(\"W\", W)\n",
    "#         print(np.max(W))\n",
    "#         print(b.shape)\n",
    "#         print(\"b\", b)\n",
    "#         print(loss.shape)\n",
    "#         print(loss)\n",
    "    print(cumulative_cross_entroy)"
   ]
  },
  {
   "cell_type": "code",
   "execution_count": 28,
   "metadata": {},
   "outputs": [],
   "source": [
    "def model_predict(W, b, x):\n",
    "    z = linear_transform(W, b, x)\n",
    "    yhat = softmax(z)\n",
    "    pred = np.argmax(yhat, axis=1)\n",
    "    return pred"
   ]
  },
  {
   "cell_type": "code",
   "execution_count": 29,
   "metadata": {},
   "outputs": [
    {
     "name": "stdout",
     "output_type": "stream",
     "text": [
      "0.8995\n"
     ]
    }
   ],
   "source": [
    "num_correct = 0.0\n",
    "num_total = len(test_inputs)\n",
    "for tx, ty in test_data:\n",
    "    pred = model_predict(W, b, tx)\n",
    "    label = np.argmax(ty, axis=1)\n",
    "    num_correct += np.sum(pred == label)\n",
    "print(num_correct / num_total)"
   ]
  },
  {
   "cell_type": "code",
   "execution_count": 30,
   "metadata": {},
   "outputs": [
    {
     "data": {
      "image/png": "[encoded data removed]",
      "text/plain": [
       "<Figure size 432x288 with 1 Axes>"
      ]
     },
     "metadata": {},
     "output_type": "display_data"
    },
    {
     "data": {
      "image/png": "[encoded data removed]",
      "text/plain": [
       "<Figure size 432x288 with 1 Axes>"
      ]
     },
     "metadata": {},
     "output_type": "display_data"
    },
    {
     "data": {
      "image/png": "[encoded data removed]",
      "text/plain": [
       "<Figure size 432x288 with 1 Axes>"
      ]
     },
     "metadata": {},
     "output_type": "display_data"
    },
    {
     "data": {
      "image/png": "[encoded data removed]",
      "text/plain": [
       "<Figure size 432x288 with 1 Axes>"
      ]
     },
     "metadata": {},
     "output_type": "display_data"
    },
    {
     "data": {
      "image/png": "[encoded data removed]",
      "text/plain": [
       "<Figure size 432x288 with 1 Axes>"
      ]
     },
     "metadata": {},
     "output_type": "display_data"
    }
   ],
   "source": [
    "for i in range(5):\n",
    "    pred = model_predict(W, b, test_inputs[np.newaxis, i])\n",
    "    show_image(test_images[i], \"prediction %d\" % pred)"
   ]
  }
 ],
 "metadata": {
  "anaconda-cloud": {},
  "kernelspec": {
   "display_name": "Python 3",
   "language": "python",
   "name": "python3"
  },
  "language_info": {
   "codemirror_mode": {
    "name": "ipython",
    "version": 3
   },
   "file_extension": ".py",
   "mimetype": "text/x-python",
   "name": "python",
   "nbconvert_exporter": "python",
   "pygments_lexer": "ipython3",
   "version": "3.6.5"
  }
 },
 "nbformat": 4,
 "nbformat_minor": 1
}
