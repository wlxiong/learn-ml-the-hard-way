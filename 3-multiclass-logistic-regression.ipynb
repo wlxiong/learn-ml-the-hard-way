{
 "cells": [
  {
   "cell_type": "markdown",
   "metadata": {},
   "source": [
    "# Multiclass logistic regression\n",
    "\n",
    "https://gluon.mxnet.io/chapter02_supervised-learning/softmax-regression-scratch.html"
   ]
  },
  {
   "cell_type": "code",
   "execution_count": 1,
   "metadata": {
    "collapsed": true
   },
   "outputs": [],
   "source": [
    "import gzip\n",
    "import array\n",
    "import struct\n",
    "import numpy as np\n",
    "import matplotlib.pyplot as plt\n",
    "\n",
    "%matplotlib inline"
   ]
  },
  {
   "cell_type": "code",
   "execution_count": 2,
   "metadata": {
    "collapsed": false
   },
   "outputs": [],
   "source": [
    "def read_int32(fin):\n",
    "    buf = fin.read(4)\n",
    "    return struct.unpack('>i', buf)[0]\n",
    "\n",
    "def read_byte(fin):\n",
    "    buf = fin.read(1)\n",
    "    return struct.unpack('B', buf)[0]\n",
    "\n",
    "def read_images(fin):\n",
    "    magic = read_int32(fin)\n",
    "    assert magic == 0x00000803, \"magic number != 0x%08x\" % magic\n",
    "    num_images = read_int32(fin)\n",
    "    num_rows = read_int32(fin)\n",
    "    num_cols = read_int32(fin)\n",
    "    data = array.array('B')\n",
    "    data.fromfile(fin, num_images * num_rows * num_cols)\n",
    "    return np.array(data).reshape((num_images, num_rows, num_cols))\n",
    "\n",
    "def read_labels(fin):\n",
    "    magic = read_int32(fin)\n",
    "    assert magic == 0x00000801, \"magic number != 0x%08x\" % magic\n",
    "    num_labels = read_int32(fin)\n",
    "    data = array.array('B')\n",
    "    data.fromfile(fin, num_labels)\n",
    "    return np.array(data)"
   ]
  },
  {
   "cell_type": "code",
   "execution_count": 3,
   "metadata": {
    "collapsed": false
   },
   "outputs": [
    {
     "data": {
      "text/plain": [
       "((60000, 28, 28), (60000,), (10000, 28, 28), (10000,))"
      ]
     },
     "execution_count": 3,
     "metadata": {},
     "output_type": "execute_result"
    }
   ],
   "source": [
    "with gzip.open('data/3/train-images-idx3-ubyte.gz') as fin:\n",
    "    train_images = read_images(fin)\n",
    "\n",
    "with gzip.open('data/3/train-labels-idx1-ubyte.gz') as fin:\n",
    "    train_labels = read_labels(fin)\n",
    "\n",
    "with gzip.open('data/3/t10k-images-idx3-ubyte.gz') as fin:\n",
    "    test_images = read_images(fin)\n",
    "\n",
    "with gzip.open('data/3/t10k-labels-idx1-ubyte.gz') as fin:\n",
    "    test_labels = read_labels(fin)\n",
    "\n",
    "train_images.shape, train_labels.shape, test_images.shape, test_labels.shape"
   ]
  },
  {
   "cell_type": "code",
   "execution_count": 4,
   "metadata": {
    "collapsed": true
   },
   "outputs": [],
   "source": [
    "def show_image(img):\n",
    "    img = np.tile(img[:, :, np.newaxis], (1, 1, 3))\n",
    "    plt.imshow(img, )"
   ]
  },
  {
   "cell_type": "code",
   "execution_count": 5,
   "metadata": {
    "collapsed": false
   },
   "outputs": [
    {
     "data": {
      "image/png": "[encoded data removed]",
      "text/plain": [
       "<matplotlib.figure.Figure at 0x25d04d9edd8>"
      ]
     },
     "metadata": {},
     "output_type": "display_data"
    }
   ],
   "source": [
    "show_image(train_images[0])"
   ]
  },
  {
   "cell_type": "code",
   "execution_count": 6,
   "metadata": {
    "collapsed": false
   },
   "outputs": [
    {
     "data": {
      "text/plain": [
       "5"
      ]
     },
     "execution_count": 6,
     "metadata": {},
     "output_type": "execute_result"
    }
   ],
   "source": [
    "train_labels[0]"
   ]
  },
  {
   "cell_type": "code",
   "execution_count": 7,
   "metadata": {
    "collapsed": true
   },
   "outputs": [],
   "source": [
    "num_examples, num_rows, num_cols = train_images.shape\n",
    "num_tests, _, _ = test_images.shape\n",
    "num_inputs = num_rows * num_cols\n",
    "num_outputs = 10"
   ]
  },
  {
   "cell_type": "code",
   "execution_count": 8,
   "metadata": {
    "collapsed": true
   },
   "outputs": [],
   "source": [
    "train_inputs = train_images.reshape(num_examples, num_inputs)\n",
    "test_inputs = test_images.reshape(num_tests, num_inputs)"
   ]
  },
  {
   "cell_type": "code",
   "execution_count": 9,
   "metadata": {
    "collapsed": false
   },
   "outputs": [
    {
     "data": {
      "text/plain": [
       "((60000, 784), (60000, 784))"
      ]
     },
     "execution_count": 9,
     "metadata": {},
     "output_type": "execute_result"
    }
   ],
   "source": [
    "train_inputs.shape, train_inputs.shape"
   ]
  },
  {
   "cell_type": "code",
   "execution_count": 10,
   "metadata": {
    "collapsed": false
   },
   "outputs": [],
   "source": [
    "from common import transform_to_one_hot"
   ]
  },
  {
   "cell_type": "code",
   "execution_count": 11,
   "metadata": {
    "collapsed": false
   },
   "outputs": [],
   "source": [
    "train_outputs = transform_to_one_hot(train_labels, num_outputs)\n",
    "test_outputs = transform_to_one_hot(test_labels, num_outputs)"
   ]
  },
  {
   "cell_type": "code",
   "execution_count": 12,
   "metadata": {
    "collapsed": false
   },
   "outputs": [
    {
     "data": {
      "text/plain": [
       "((60000, 10), (10000, 10))"
      ]
     },
     "execution_count": 12,
     "metadata": {},
     "output_type": "execute_result"
    }
   ],
   "source": [
    "train_outputs.shape, test_outputs.shape"
   ]
  },
  {
   "cell_type": "code",
   "execution_count": 13,
   "metadata": {
    "collapsed": true
   },
   "outputs": [],
   "source": [
    "from common import split_data\n",
    "batch_size = 64\n",
    "train_data = split_data(train_inputs, train_outputs, batch_size)\n",
    "test_data = split_data(test_inputs, test_outputs, batch_size)"
   ]
  },
  {
   "cell_type": "code",
   "execution_count": 14,
   "metadata": {
    "collapsed": false
   },
   "outputs": [],
   "source": [
    "W = np.random.randn(num_inputs, num_outputs)\n",
    "b = np.random.randn(num_outputs)"
   ]
  },
  {
   "cell_type": "markdown",
   "metadata": {},
   "source": [
    "$$softmax(z) = \\frac{\\exp(z)}{\\sum_{i = 1}^{k} \\exp(z_i)}$$\n",
    "$$\\hat{y} = softmax(xW + b)$$\n",
    "$$\\min_{W, b} - \\sum_{j} {y_j \\cdot \\log{(\\hat{y}_j + 10^{-6})}}$$"
   ]
  },
  {
   "cell_type": "code",
   "execution_count": 15,
   "metadata": {
    "collapsed": true
   },
   "outputs": [],
   "source": [
    "# yhat, y: (num_examples, num_outputs)\n",
    "# return: (num_examples,)\n",
    "def cross_entropy(yhat, y):\n",
    "    return - np.sum(y * np.log(yhat+1e-6), axis=1)"
   ]
  },
  {
   "cell_type": "code",
   "execution_count": 16,
   "metadata": {
    "collapsed": true
   },
   "outputs": [],
   "source": [
    "# yhat, y: (num_examples, num_outputs)\n",
    "# return: (num_examples, num_outputs)\n",
    "def grad_cross_entropy(yhat, y):\n",
    "    # D(y * log(yhat + 1e-6)) / dyhat\n",
    "    # = y / (yhat + 1e-6)\n",
    "    return - y / (yhat + 1e-6)"
   ]
  },
  {
   "cell_type": "code",
   "execution_count": 17,
   "metadata": {
    "collapsed": false
   },
   "outputs": [],
   "source": [
    "def rand_prob_dist(example_count, choice_count):\n",
    "    yhat = np.random.uniform(size=(example_count, choice_count))\n",
    "    yhat = yhat / np.sum(yhat, axis=1)[:, np.newaxis]\n",
    "    return yhat\n",
    "\n",
    "def rand_one_hot(example_count, choice_count):\n",
    "    r = np.random.uniform(size=(example_count, choice_count))\n",
    "    a = np.argmax(r, axis=1)\n",
    "    y = np.zeros((example_count, num_outputs))\n",
    "    y[np.arange(a.size), a] = 1\n",
    "    return y"
   ]
  },
  {
   "cell_type": "code",
   "execution_count": 18,
   "metadata": {
    "collapsed": true
   },
   "outputs": [],
   "source": [
    "def calc_numeric_grad(func, x, delta=1e-3):\n",
    "    y = func(x)\n",
    "    input_size = 1 if np.isscalar(x) else x.size\n",
    "    output_size = 1 if np.isscalar(y) else y.size\n",
    "    delta_mat = np.identity(input_size) * delta\n",
    "    grad = np.zeros((output_size, input_size))\n",
    "    for i in range(input_size):\n",
    "        h = delta_mat[i]\n",
    "        y_ = func(x + h)\n",
    "        g = (y_ - y) / delta\n",
    "        grad[:, i] = g\n",
    "    return grad"
   ]
  },
  {
   "cell_type": "code",
   "execution_count": 30,
   "metadata": {
    "collapsed": false
   },
   "outputs": [
    {
     "name": "stdout",
     "output_type": "stream",
     "text": [
      "numeric [[ -6.62026655 -12.76401567  -9.44336235 -10.55828606 -12.63820538\n",
      "   -9.7151693  -56.58704359 -10.12429334  -7.36823374  -7.10349522]]\n",
      "grad [[ -6.64222895 -12.84582342  -9.48809159 -10.61422145 -12.718405\n",
      "   -9.76251475 -58.21872195 -10.1757174   -7.39544597  -7.12878488]]\n",
      "diff [[ 0.0219624   0.08180774  0.04472923  0.05593539  0.08019962  0.04734546\n",
      "   1.63167836  0.05142406  0.02721223  0.02528967]]\n"
     ]
    }
   ],
   "source": [
    "def test_grad_cross_entropy(delta=1e-4):\n",
    "    yhat = rand_prob_dist(1, num_outputs)\n",
    "#     y = rand_one_hot(1, num_outputs)\n",
    "    y = np.ones(num_outputs)\n",
    "    grad1 = calc_numeric_grad(lambda x: cross_entropy(x, y), yhat)\n",
    "    grad2 = grad_cross_entropy(yhat, y)\n",
    "    print(\"numeric\", grad1)\n",
    "    print(\"grad\", grad2)\n",
    "    print(\"diff\", grad1 - grad2)\n",
    "\n",
    "test_grad_cross_entropy()"
   ]
  },
  {
   "cell_type": "code",
   "execution_count": 20,
   "metadata": {
    "collapsed": false
   },
   "outputs": [],
   "source": [
    "# z: (num_examples, num_outputs)\n",
    "# return: (num_examples, num_outputs)\n",
    "def softmax(z):\n",
    "    z_min = np.min(z, axis=1)\n",
    "    z = z - z_min[:, np.newaxis]\n",
    "    exp = np.exp(z)\n",
    "    sum_exp = np.sum(exp, axis=1)[:, np.newaxis]\n",
    "    return exp / sum_exp"
   ]
  },
  {
   "cell_type": "code",
   "execution_count": 21,
   "metadata": {
    "collapsed": false
   },
   "outputs": [
    {
     "data": {
      "text/plain": [
       "array([-1.02992638, -0.91711501,  0.41016197])"
      ]
     },
     "execution_count": 21,
     "metadata": {},
     "output_type": "execute_result"
    }
   ],
   "source": [
    "z = np.random.randn(3, 4)\n",
    "np.min(z, axis=1)"
   ]
  },
  {
   "cell_type": "code",
   "execution_count": 22,
   "metadata": {
    "collapsed": true
   },
   "outputs": [],
   "source": [
    "# z: (num_examples, num_outputs)\n",
    "# return: (num_examples, num_outputs, num_outputs)\n",
    "def grad_softmax(z):\n",
    "    # D(softmax) / dz\n",
    "    # = D(exp(z) * sum(exp(z))^-1) / dz\n",
    "    # = D(exp(z)) / dz * sum(exp(z))^-1 + exp(z) * D(sum(exp(z))^-1) / dz\n",
    "    # = exp(z) * sum(exp(z))^-1 + exp(z) * -1 * sum(exp(z))^-2 * exp(z)\n",
    "    # = exp(z) / sum(exp(z)) - exp(z)^2 / sum(exp(z))^2\n",
    "    z_min = np.min(z, axis=1)\n",
    "    z = z - z_min[:, np.newaxis]\n",
    "    exp = np.exp(z)\n",
    "    sum_exp = np.sum(exp, axis=1)\n",
    "#     print(\"sum_exp\", sum_exp)\n",
    "#     print(\"exp\", exp)\n",
    "    outer_mat = np.einsum(\"ij,ik->ijk\", exp, exp)\n",
    "    outer_mat /= sum_exp[:, np.newaxis, np.newaxis]**2\n",
    "#     outer_mat = np.outer(exp, exp) / sum_exp**2\n",
    "#     print(\"outer\", outer_mat)\n",
    "    diag = exp / sum_exp[:, np.newaxis]\n",
    "#     print(\"diag\", diag[0])\n",
    "    diag_mat = np.zeros((diag.shape[0], diag.shape[1], diag.shape[1]))\n",
    "    diag_idx = np.arange(diag.shape[1])\n",
    "    diag_mat[:, diag_idx, diag_idx] = diag\n",
    "#     print(\"diag\", diag_mat)\n",
    "    return diag_mat - outer_mat"
   ]
  },
  {
   "cell_type": "code",
   "execution_count": 29,
   "metadata": {
    "collapsed": false
   },
   "outputs": [
    {
     "name": "stdout",
     "output_type": "stream",
     "text": [
      "numeric [[[ 0.13892032 -0.10566489 -0.03320494]\n",
      "  [-0.1057143   0.23197015 -0.12636022]\n",
      "  [-0.03320602 -0.12630526  0.15956516]]\n",
      "\n",
      " [[ 0.2188655  -0.17807344 -0.04075965]\n",
      "  [-0.1781139   0.24742838 -0.06938439]\n",
      "  [-0.0407516  -0.06935493  0.11014405]]]\n",
      "grad [[[ 0.13887402 -0.10567907 -0.03319495]\n",
      "  [-0.10567907  0.23200129 -0.12632222]\n",
      "  [-0.03319495 -0.12632222  0.15951717]]\n",
      "\n",
      " [[ 0.21882688 -0.17808247 -0.04074441]\n",
      "  [-0.17808247  0.24744092 -0.06935845]\n",
      "  [-0.04074441 -0.06935845  0.11010286]]]\n",
      "diff [[[  4.62982948e-05   1.41847291e-05  -9.98539898e-06]\n",
      "  [ -3.52316487e-05  -3.11402763e-05  -3.79990833e-05]\n",
      "  [ -1.10666462e-05   1.69555471e-05   4.79844823e-05]]\n",
      "\n",
      " [[  3.86244615e-05   9.02310908e-06  -1.52418650e-05]\n",
      "  [ -3.14327907e-05  -1.25373733e-05  -2.59459425e-05]\n",
      "  [ -7.19167084e-06   3.51426423e-06   4.11878075e-05]]]\n"
     ]
    }
   ],
   "source": [
    "def test_grad_softmax(delta=1e-3):\n",
    "    z = np.random.randn(2, 3)\n",
    "    h = rand_one_hot(1, num_outputs) * delta\n",
    "    grad1 = np.array([calc_numeric_grad(softmax, r[np.newaxis, :]) for r in z])\n",
    "    grad2 = grad_softmax(z)\n",
    "    print(\"numeric\", grad1)\n",
    "    print(\"grad\", grad2)\n",
    "    print(\"diff\", grad1 - grad2)\n",
    "\n",
    "test_grad_softmax()"
   ]
  },
  {
   "cell_type": "code",
   "execution_count": 24,
   "metadata": {
    "collapsed": true
   },
   "outputs": [],
   "source": [
    "def gradient(W, b, x, y):\n",
    "    pass"
   ]
  },
  {
   "cell_type": "code",
   "execution_count": 25,
   "metadata": {
    "collapsed": true
   },
   "outputs": [],
   "source": [
    "epochs = 100\n",
    "learning_rate = .001"
   ]
  },
  {
   "cell_type": "code",
   "execution_count": 26,
   "metadata": {
    "collapsed": true
   },
   "outputs": [],
   "source": [
    "# for e in range(epochs):\n",
    "#     cumulative_lld = 0\n",
    "#     for bx, by in train_data:\n",
    "#         yhat = logistic_regression(w, b, bx)\n",
    "#         lld = log_likelihood(yhat, by)\n",
    "#         cumulative_lld += lld\n",
    "#         sgd_update(w, b, bx, by, learning_rate)\n",
    "# #         print(w, b)\n",
    "#     print(cumulative_lld)"
   ]
  }
 ],
 "metadata": {
  "anaconda-cloud": {},
  "kernelspec": {
   "display_name": "Python [conda root]",
   "language": "python",
   "name": "conda-root-py"
  },
  "language_info": {
   "codemirror_mode": {
    "name": "ipython",
    "version": 3
   },
   "file_extension": ".py",
   "mimetype": "text/x-python",
   "name": "python",
   "nbconvert_exporter": "python",
   "pygments_lexer": "ipython3",
   "version": "3.5.2"
  }
 },
 "nbformat": 4,
 "nbformat_minor": 1
}
