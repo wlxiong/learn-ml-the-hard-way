{
 "cells": [
  {
   "cell_type": "markdown",
   "metadata": {},
   "source": [
    "# Convolutional neural network\n",
    "\n",
    "In this section, we will extend the simple neural network framework to work with convolutional neural network (CNN)."
   ]
  },
  {
   "cell_type": "code",
   "execution_count": 1,
   "metadata": {},
   "outputs": [],
   "source": [
    "import numpy as np\n",
    "from timeit import default_timer as timer\n",
    "\n",
    "%matplotlib inline"
   ]
  },
  {
   "cell_type": "code",
   "execution_count": 2,
   "metadata": {},
   "outputs": [],
   "source": [
    "import nn\n",
    "import neurons\n",
    "from dataset import MNIST\n",
    "\n",
    "train_data = MNIST('data/mnist/train-images-idx3-ubyte.gz', 'data/mnist/train-labels-idx1-ubyte.gz')\n",
    "test_data = MNIST('data/mnist/t10k-images-idx3-ubyte.gz', 'data/mnist/t10k-labels-idx1-ubyte.gz')"
   ]
  },
  {
   "cell_type": "code",
   "execution_count": 3,
   "metadata": {},
   "outputs": [],
   "source": [
    "num_examples = train_data.sample_size\n",
    "num_inputs = np.prod(train_data.input_dim)\n",
    "num_outputs = np.prod(train_data.target_dim)"
   ]
  },
  {
   "cell_type": "code",
   "execution_count": 4,
   "metadata": {},
   "outputs": [],
   "source": [
    "scale_weight = .01\n",
    "\n",
    "data_layer = nn.BatchDataLayer(train_data.inputs, train_data.targets, batch_size=64, shuffle=True)\n",
    "\n",
    "conv_layer1 = nn.ConvolutionalLayer(\n",
    "    filter_size=(3,3), stride=(1,1), pad=(1,1),\n",
    "    num_filters=10, scale=scale_weight, neuron_type=neurons.ReLU)\n",
    "pool_layer1 = nn.PoolingLayer(\n",
    "    filter_size=(2,2), stride=(2,2), pad=(0,0))\n",
    "\n",
    "conv_layer2 = nn.ConvolutionalLayer(\n",
    "    filter_size=(5,5), stride=(1,1), pad=(2,2),\n",
    "    num_filters=20, scale=scale_weight, neuron_type=neurons.ReLU)\n",
    "pool_layer2 = nn.PoolingLayer(\n",
    "    filter_size=(2,2), stride=(2,2), pad=(0,0))\n",
    "\n",
    "fc_layer1 = nn.FullyConnectedLayer(\n",
    "    num_neurons=256, scale=scale_weight, neuron_type=neurons.ReLU)\n",
    "fc_layer2 = nn.FullyConnectedLayer(\n",
    "    num_neurons=10, scale=scale_weight)\n",
    "\n",
    "softmax_layer = nn.SoftmaxLayer()\n",
    "loss_layer = nn.CrossEntropyLayer()\n",
    "\n",
    "cnn_net = nn.NeuralNetwork(\n",
    "    data_layer,\n",
    "    [\n",
    "     conv_layer1,\n",
    "#      pool_layer1,\n",
    "#      conv_layer2,\n",
    "#      pool_layer2,\n",
    "#      fc_layer1,\n",
    "     fc_layer2,\n",
    "     softmax_layer\n",
    "    ],\n",
    "    loss_layer)\n"
   ]
  },
  {
   "cell_type": "code",
   "execution_count": 5,
   "metadata": {},
   "outputs": [
    {
     "name": "stdout",
     "output_type": "stream",
     "text": [
      "--- Epoch 0 ---\n",
      "loss 5448.808044 (8.025 seconds elapsed)\n",
      "--- Epoch 1 ---\n",
      "loss 2643.400392 (7.803 seconds elapsed)\n",
      "--- Epoch 2 ---\n",
      "loss 2341.007500 (8.314 seconds elapsed)\n",
      "--- Epoch 3 ---\n",
      "loss 2151.070379 (9.901 seconds elapsed)\n",
      "--- Epoch 4 ---\n",
      "loss 1999.917387 (9.567 seconds elapsed)\n",
      "--- Epoch 5 ---\n",
      "loss 1861.305097 (9.253 seconds elapsed)\n",
      "--- Epoch 6 ---\n",
      "loss 1720.857154 (10.023 seconds elapsed)\n",
      "--- Epoch 7 ---\n",
      "loss 1571.528902 (18.804 seconds elapsed)\n",
      "--- Epoch 8 ---\n",
      "loss 1413.818897 (12.738 seconds elapsed)\n",
      "--- Epoch 9 ---\n",
      "loss 1254.654428 (16.088 seconds elapsed)\n"
     ]
    }
   ],
   "source": [
    "epochs = 10\n",
    "learning_rate = .002\n",
    "num_batches = 100\n",
    "\n",
    "for e in range(epochs):\n",
    "    print(\"--- Epoch %d ---\" % e)\n",
    "    start = timer()\n",
    "    loss = cnn_net.train(learning_rate, num_batches, verbose=False)\n",
    "    end = timer()\n",
    "    # print(\"param\", softmax_layer.parameters())\n",
    "    # print(\"grad\", softmax_layer.gradient())\n",
    "    print(\"loss %f (%.3f seconds elapsed)\" % (loss, end - start))"
   ]
  },
  {
   "cell_type": "code",
   "execution_count": 6,
   "metadata": {},
   "outputs": [],
   "source": [
    "def model_predict(net, inputs, labels):\n",
    "    yhat = net.evaluate(inputs)\n",
    "    pred_labels = np.argmax(yhat, axis=1)\n",
    "    num_correct = np.sum(pred_labels == labels)\n",
    "    return num_correct, pred_labels"
   ]
  },
  {
   "cell_type": "code",
   "execution_count": 7,
   "metadata": {},
   "outputs": [
    {
     "name": "stdout",
     "output_type": "stream",
     "text": [
      "0.94\n"
     ]
    }
   ],
   "source": [
    "num_correct, pred_labels = model_predict(cnn_net, test_data.inputs[:200], test_data.labels[:200])\n",
    "print(num_correct / len(pred_labels))"
   ]
  },
  {
   "cell_type": "code",
   "execution_count": 8,
   "metadata": {},
   "outputs": [
    {
     "data": {
      "image/png": "[encoded data removed]",
      "text/plain": [
       "<Figure size 432x288 with 1 Axes>"
      ]
     },
     "metadata": {},
     "output_type": "display_data"
    },
    {
     "data": {
      "image/png": "[encoded data removed]",
      "text/plain": [
       "<Figure size 432x288 with 1 Axes>"
      ]
     },
     "metadata": {},
     "output_type": "display_data"
    },
    {
     "data": {
      "image/png": "[encoded data removed]",
      "text/plain": [
       "<Figure size 432x288 with 1 Axes>"
      ]
     },
     "metadata": {},
     "output_type": "display_data"
    },
    {
     "data": {
      "image/png": "[encoded data removed]",
      "text/plain": [
       "<Figure size 432x288 with 1 Axes>"
      ]
     },
     "metadata": {},
     "output_type": "display_data"
    },
    {
     "data": {
      "image/png": "[encoded data removed]",
      "text/plain": [
       "<Figure size 432x288 with 1 Axes>"
      ]
     },
     "metadata": {},
     "output_type": "display_data"
    }
   ],
   "source": [
    "for i in range(5):\n",
    "    num_correct, pred_labels = model_predict(cnn_net, test_data.inputs[np.newaxis, i], test_data.labels[np.newaxis, i])\n",
    "    test_data.show_image(i, \"prediction %d vs target %d\" % (pred_labels[0], test_data.labels[i]))"
   ]
  },
  {
   "cell_type": "code",
   "execution_count": null,
   "metadata": {},
   "outputs": [],
   "source": []
  }
 ],
 "metadata": {
  "kernelspec": {
   "display_name": "Python 3",
   "language": "python",
   "name": "python3"
  },
  "language_info": {
   "codemirror_mode": {
    "name": "ipython",
    "version": 3
   },
   "file_extension": ".py",
   "mimetype": "text/x-python",
   "name": "python",
   "nbconvert_exporter": "python",
   "pygments_lexer": "ipython3",
   "version": "3.6.5"
  }
 },
 "nbformat": 4,
 "nbformat_minor": 2
}
