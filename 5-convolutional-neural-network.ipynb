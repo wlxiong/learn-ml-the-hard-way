{
 "cells": [
  {
   "cell_type": "markdown",
   "metadata": {},
   "source": [
    "# Convolutional neural network\n",
    "\n",
    "In this section, we will extend the simple neural network framework to work with convolutional neural network (CNN)."
   ]
  },
  {
   "cell_type": "code",
   "execution_count": null,
   "metadata": {},
   "outputs": [],
   "source": [
    "import numpy as np\n",
    "from narray import set_library\n",
    "\n",
    "xp = set_library('numpy')\n",
    "\n",
    "%matplotlib inline"
   ]
  },
  {
   "cell_type": "code",
   "execution_count": null,
   "metadata": {},
   "outputs": [],
   "source": [
    "import nn\n",
    "import neurons\n",
    "from dataset import MNIST\n",
    "\n",
    "train_data = MNIST('data/mnist/train-images-idx3-ubyte.gz', 'data/mnist/train-labels-idx1-ubyte.gz')\n",
    "test_data = MNIST('data/mnist/t10k-images-idx3-ubyte.gz', 'data/mnist/t10k-labels-idx1-ubyte.gz')"
   ]
  },
  {
   "cell_type": "code",
   "execution_count": null,
   "metadata": {},
   "outputs": [],
   "source": [
    "num_examples = train_data.sample_size\n",
    "num_inputs = np.prod(train_data.input_dim)\n",
    "num_outputs = np.prod(train_data.target_dim)"
   ]
  },
  {
   "cell_type": "code",
   "execution_count": null,
   "metadata": {},
   "outputs": [],
   "source": [
    "scale_weight = .01\n",
    "batch_size = 64\n",
    "\n",
    "data_layer = nn.BatchDataLayer(train_data.inputs, train_data.targets, batch_size, shuffle=True)\n",
    "\n",
    "conv_layer1 = nn.ConvolutionalLayer(\n",
    "    filter_size=(3,3), stride=(1,1), pad=(1,1),\n",
    "    num_filters=10, scale=scale_weight, neuron_type=neurons.ReLU)\n",
    "pool_layer1 = nn.PoolingLayer(\n",
    "    filter_size=(2,2), stride=(2,2), pad=(0,0))\n",
    "\n",
    "conv_layer2 = nn.ConvolutionalLayer(\n",
    "    filter_size=(5,5), stride=(1,1), pad=(2,2),\n",
    "    num_filters=20, scale=scale_weight, neuron_type=neurons.ReLU)\n",
    "pool_layer2 = nn.PoolingLayer(\n",
    "    filter_size=(2,2), stride=(2,2), pad=(0,0))\n",
    "\n",
    "fc_layer1 = nn.FullyConnectedLayer(\n",
    "    num_neurons=128, scale=scale_weight, neuron_type=neurons.ReLU)\n",
    "fc_layer2 = nn.FullyConnectedLayer(\n",
    "    num_neurons=10, scale=scale_weight)\n",
    "\n",
    "softmax_layer = nn.SoftmaxLayer()\n",
    "loss_layer = nn.CrossEntropyLayer()\n",
    "\n",
    "cnn_net = nn.NeuralNetwork(\n",
    "    data_layer,\n",
    "    [\n",
    "     conv_layer1,\n",
    "     pool_layer1,\n",
    "#      conv_layer2,\n",
    "#      pool_layer2,\n",
    "     fc_layer1,\n",
    "     fc_layer2,\n",
    "     softmax_layer\n",
    "    ],\n",
    "    loss_layer)\n"
   ]
  },
  {
   "cell_type": "code",
   "execution_count": null,
   "metadata": {},
   "outputs": [],
   "source": [
    "from timeit import default_timer as timer\n",
    "\n",
    "epochs = 10\n",
    "learning_rate = .002\n",
    "num_batches = 50\n",
    "\n",
    "for e in range(epochs):\n",
    "    print(\"--- Epoch %d ---\" % e)\n",
    "    start = timer()\n",
    "    loss = cnn_net.train(learning_rate, num_batches, verbose=False)\n",
    "    end = timer()\n",
    "    # print(\"param\", softmax_layer.parameters())\n",
    "    # print(\"grad\", softmax_layer.gradient())\n",
    "    print(\"loss %f (%.3f seconds elapsed)\" % (loss, end - start))"
   ]
  },
  {
   "cell_type": "code",
   "execution_count": null,
   "metadata": {},
   "outputs": [],
   "source": [
    "def model_predict(net, inputs, labels):\n",
    "    yhat = net.evaluate(inputs)\n",
    "    pred_labels = np.argmax(yhat, axis=1)\n",
    "    num_correct = np.sum(pred_labels == labels)\n",
    "    return num_correct, pred_labels"
   ]
  },
  {
   "cell_type": "code",
   "execution_count": null,
   "metadata": {},
   "outputs": [],
   "source": [
    "total_num_correct = 0\n",
    "predicted_labels = np.array([])\n",
    "\n",
    "for batch_start in range(0, batch_size * 10, batch_size):\n",
    "    input_batch = test_data.inputs[batch_start:batch_start+batch_size]\n",
    "    label_batch = test_data.labels[batch_start:batch_start+batch_size]\n",
    "    num_correct, labels = model_predict(cnn_net, input_batch, label_batch)\n",
    "    total_num_correct += num_correct\n",
    "    predicted_labels = np.append(predicted_labels, labels, axis=0)\n",
    "\n",
    "print(\"%.2f%% of %d\" % (100 * total_num_correct / len(predicted_labels), len(predicted_labels)))"
   ]
  },
  {
   "cell_type": "code",
   "execution_count": null,
   "metadata": {},
   "outputs": [],
   "source": [
    "for i in range(5):\n",
    "    test_data.show_image(i, \"prediction %d vs target %d\" % (predicted_labels[i], test_data.labels[i]))"
   ]
  },
  {
   "cell_type": "code",
   "execution_count": null,
   "metadata": {},
   "outputs": [],
   "source": []
  }
 ],
 "metadata": {
  "kernelspec": {
   "display_name": "Python 3",
   "language": "python",
   "name": "python3"
  },
  "language_info": {
   "codemirror_mode": {
    "name": "ipython",
    "version": 3
   },
   "file_extension": ".py",
   "mimetype": "text/x-python",
   "name": "python",
   "nbconvert_exporter": "python",
   "pygments_lexer": "ipython3",
   "version": "3.6.5"
  }
 },
 "nbformat": 4,
 "nbformat_minor": 2
}
