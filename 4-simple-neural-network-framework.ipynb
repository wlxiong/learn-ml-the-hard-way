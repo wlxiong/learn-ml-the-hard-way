{
 "cells": [
  {
   "cell_type": "markdown",
   "metadata": {},
   "source": [
    "# A simple neural network framework\n",
    "\n",
    "In this section, we will build a simple neural network framework and use it to re-implement multiclass logistic regression in the previous section. This framework is also the start point of more advanced models in following sections."
   ]
  },
  {
   "cell_type": "markdown",
   "metadata": {},
   "source": [
    "## Multiclass logistic regression"
   ]
  },
  {
   "cell_type": "code",
   "execution_count": null,
   "metadata": {},
   "outputs": [],
   "source": [
    "import numpy as np\n",
    "from narray import set_library\n",
    "\n",
    "set_library('numpy')\n",
    "\n",
    "%matplotlib inline"
   ]
  },
  {
   "cell_type": "code",
   "execution_count": null,
   "metadata": {},
   "outputs": [],
   "source": [
    "from dataset import MNIST\n",
    "\n",
    "train_data = MNIST('data/mnist/train-images-idx3-ubyte.gz', 'data/mnist/train-labels-idx1-ubyte.gz')\n",
    "test_data = MNIST('data/mnist/t10k-images-idx3-ubyte.gz', 'data/mnist/t10k-labels-idx1-ubyte.gz')"
   ]
  },
  {
   "cell_type": "code",
   "execution_count": null,
   "metadata": {},
   "outputs": [],
   "source": [
    "train_data.show_image(0)"
   ]
  },
  {
   "cell_type": "code",
   "execution_count": null,
   "metadata": {},
   "outputs": [],
   "source": [
    "num_examples = train_data.sample_size\n",
    "num_inputs = np.prod(train_data.input_dim)\n",
    "num_outputs = np.prod(train_data.target_dim)"
   ]
  },
  {
   "cell_type": "code",
   "execution_count": null,
   "metadata": {},
   "outputs": [],
   "source": [
    "import nn\n",
    "import neurons\n",
    "\n",
    "data_layer = nn.BatchDataLayer(train_data.inputs, train_data.targets, batch_size=64, shuffle=True)\n",
    "fc_layer = nn.FullyConnectedLayer(num_outputs)\n",
    "softmax_layer = nn.SoftmaxLayer()\n",
    "loss_layer = nn.CrossEntropyLayer()\n",
    "logistic_net = nn.NeuralNetwork(data_layer, [fc_layer, softmax_layer], loss_layer)"
   ]
  },
  {
   "cell_type": "code",
   "execution_count": null,
   "metadata": {},
   "outputs": [],
   "source": [
    "from timeit import default_timer as timer\n",
    "\n",
    "epochs = 10\n",
    "learning_rate = .002\n",
    "\n",
    "for e in range(epochs):\n",
    "    start = timer()\n",
    "    loss = logistic_net.train(learning_rate)\n",
    "    end = timer()\n",
    "    # print(\"param\", softmax_layer.parameters())\n",
    "    # print(\"grad\", softmax_layer.gradient())\n",
    "    print(\"loss %f (%.3f seconds elapsed)\" % (loss, end - start))"
   ]
  },
  {
   "cell_type": "code",
   "execution_count": null,
   "metadata": {},
   "outputs": [],
   "source": [
    "def model_predict(net, x):\n",
    "    yhat = net.evaluate(x)\n",
    "    pred = np.argmax(yhat, axis=1)\n",
    "    return pred"
   ]
  },
  {
   "cell_type": "code",
   "execution_count": null,
   "metadata": {},
   "outputs": [],
   "source": [
    "for i in range(5):\n",
    "    pred_label = model_predict(logistic_net, test_data.inputs[np.newaxis, i])\n",
    "    test_data.show_image(i, \"prediction %d vs target %d\" % (pred_label, test_data.labels[i]))"
   ]
  },
  {
   "cell_type": "code",
   "execution_count": null,
   "metadata": {},
   "outputs": [],
   "source": [
    "pred_labels = model_predict(logistic_net, test_data.inputs)\n",
    "num_correct = np.sum(pred_labels == test_data.labels)\n",
    "print(num_correct / test_data.sample_size)"
   ]
  },
  {
   "cell_type": "markdown",
   "metadata": {},
   "source": [
    "## Multilayer perceptrons"
   ]
  },
  {
   "cell_type": "code",
   "execution_count": null,
   "metadata": {},
   "outputs": [],
   "source": [
    "num_hidden = 256\n",
    "scale_weight = .01\n",
    "\n",
    "data_layer = nn.BatchDataLayer(train_data.inputs, train_data.targets, batch_size=64, shuffle=True)\n",
    "hidden_layer_1 = nn.FullyConnectedLayer(num_hidden, scale_weight, neurons.ReLU)\n",
    "dropout_layer_1 = nn.DropoutLayer()\n",
    "hidden_layer_2 = nn.FullyConnectedLayer(num_hidden, scale_weight, neurons.ReLU)\n",
    "dropout_layer_2 = nn.DropoutLayer()\n",
    "output_layer = nn.FullyConnectedLayer(num_outputs, scale_weight)\n",
    "softmax_layer = nn.SoftmaxLayer()\n",
    "# softmax_layer = nn.FullyConnectedLayer(num_hidden, num_outputs, scale_weight, neurons.Softmax)\n",
    "loss_layer = nn.CrossEntropyLayer()\n",
    "mlp_net = nn.NeuralNetwork(data_layer, [hidden_layer_1, dropout_layer_1, hidden_layer_2, dropout_layer_2, output_layer, softmax_layer], loss_layer)"
   ]
  },
  {
   "cell_type": "code",
   "execution_count": null,
   "metadata": {},
   "outputs": [],
   "source": [
    "epochs = 10\n",
    "learning_rate = .002\n",
    "\n",
    "for e in range(epochs):\n",
    "    start = timer()\n",
    "    loss = mlp_net.train(learning_rate)\n",
    "    end = timer()\n",
    "    # print(\"param\", softmax_layer.parameters())\n",
    "    # print(\"grad\", softmax_layer.gradient())\n",
    "    print(\"loss %f (%.3f seconds elapsed)\" % (loss, end - start))"
   ]
  },
  {
   "cell_type": "code",
   "execution_count": null,
   "metadata": {},
   "outputs": [],
   "source": [
    "pred_labels = model_predict(mlp_net, test_data.inputs)\n",
    "num_correct = np.sum(pred_labels == test_data.labels)\n",
    "print(num_correct / test_data.sample_size)"
   ]
  }
 ],
 "metadata": {
  "anaconda-cloud": {},
  "kernelspec": {
   "display_name": "Python 3",
   "language": "python",
   "name": "python3"
  },
  "language_info": {
   "codemirror_mode": {
    "name": "ipython",
    "version": 3
   },
   "file_extension": ".py",
   "mimetype": "text/x-python",
   "name": "python",
   "nbconvert_exporter": "python",
   "pygments_lexer": "ipython3",
   "version": "3.6.5"
  }
 },
 "nbformat": 4,
 "nbformat_minor": 1
}
