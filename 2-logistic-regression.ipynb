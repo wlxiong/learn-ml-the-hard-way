{
 "cells": [
  {
   "cell_type": "markdown",
   "metadata": {},
   "source": [
    "## Logistic regression from scratch\n",
    "\n",
    "https://gluon.mxnet.io/chapter02_supervised-learning/logistic-regression-gluon.html"
   ]
  },
  {
   "cell_type": "code",
   "execution_count": 1,
   "metadata": {
    "collapsed": true
   },
   "outputs": [],
   "source": [
    "import numpy as np\n",
    "import matplotlib.pyplot as plt\n",
    "%matplotlib inline"
   ]
  },
  {
   "cell_type": "markdown",
   "metadata": {},
   "source": [
    "Sigmoid function\n",
    "\n",
    "$\\sigma(z) = \\frac{1}{1 + \\exp(-z)}$"
   ]
  },
  {
   "cell_type": "code",
   "execution_count": 2,
   "metadata": {
    "collapsed": true
   },
   "outputs": [],
   "source": [
    "def logistic(z):\n",
    "    return 1. / (1. + np.exp(-z))"
   ]
  },
  {
   "cell_type": "code",
   "execution_count": 3,
   "metadata": {
    "collapsed": true
   },
   "outputs": [],
   "source": [
    "x = np.arange(-5, 5, .1)\n",
    "y = logistic(x)"
   ]
  },
  {
   "cell_type": "code",
   "execution_count": 4,
   "metadata": {
    "collapsed": false
   },
   "outputs": [
    {
     "data": {
      "text/plain": [
       "[<matplotlib.lines.Line2D at 0x1e8fd2fb4a8>]"
      ]
     },
     "execution_count": 4,
     "metadata": {},
     "output_type": "execute_result"
    },
    {
     "data": {
      "image/png": "[encoded data removed]",
      "text/plain": [
       "<matplotlib.figure.Figure at 0x1e8fcf22ac8>"
      ]
     },
     "metadata": {},
     "output_type": "display_data"
    }
   ],
   "source": [
    "plt.plot(x, y)"
   ]
  },
  {
   "cell_type": "markdown",
   "metadata": {},
   "source": [
    "https://www.csie.ntu.edu.tw/~cjlin/libsvmtools/datasets/binary.html\n",
    "\n",
    "Preprocessing: The original Adult data set has 14 features, among which six are continuous and eight are categorical. In this data set, continuous features are discretized into quantiles, and each quantile is represented by a binary feature. Also, a categorical feature with m categories is converted to m binary features. Details on how each feature is converted can be found in the beginning of each file from this page. [JP98a]\n",
    "```\n",
    "# of classes: 2\n",
    "# of data: 1,605 / 30,956 (testing)\n",
    "# of features: 123 / 123 (testing)\n",
    "```"
   ]
  },
  {
   "cell_type": "code",
   "execution_count": 5,
   "metadata": {
    "collapsed": true
   },
   "outputs": [],
   "source": [
    "num_features = 123"
   ]
  },
  {
   "cell_type": "code",
   "execution_count": 6,
   "metadata": {
    "collapsed": true
   },
   "outputs": [],
   "source": [
    "with open('data/2/a1a') as f:\n",
    "    train_raw = f.readlines()\n",
    "\n",
    "with open('data/2/a1a.t') as f:\n",
    "    test_raw = f.readlines()"
   ]
  },
  {
   "cell_type": "code",
   "execution_count": 7,
   "metadata": {
    "collapsed": false
   },
   "outputs": [
    {
     "data": {
      "text/plain": [
       "'-1 3:1 11:1 14:1 19:1 39:1 42:1 55:1 64:1 67:1 73:1 75:1 76:1 80:1 83:1 \\n'"
      ]
     },
     "execution_count": 7,
     "metadata": {},
     "output_type": "execute_result"
    }
   ],
   "source": [
    "train_raw[0]"
   ]
  },
  {
   "cell_type": "code",
   "execution_count": 8,
   "metadata": {
    "collapsed": false
   },
   "outputs": [
    {
     "data": {
      "text/plain": [
       "['3', '1']"
      ]
     },
     "execution_count": 8,
     "metadata": {},
     "output_type": "execute_result"
    }
   ],
   "source": [
    "train_raw[0].split()[1:][0].split(':', 1)"
   ]
  },
  {
   "cell_type": "code",
   "execution_count": 9,
   "metadata": {
    "collapsed": true
   },
   "outputs": [],
   "source": [
    "def process_data(raw_data):\n",
    "    num_examples = len(raw_data)\n",
    "    x = np.zeros((num_examples, num_features))\n",
    "    y = np.zeros((num_examples,))\n",
    "    for i, line in enumerate(raw_data):\n",
    "        tokens = line.split()\n",
    "        y[i] = (int(tokens[0]) + 1) / 2\n",
    "        for t in tokens[1:]:\n",
    "            findex, _ = t.split(':', 1)\n",
    "            findex = int(findex) - 1\n",
    "            x[i, findex] = 1\n",
    "    return x, y"
   ]
  },
  {
   "cell_type": "code",
   "execution_count": 10,
   "metadata": {
    "collapsed": false
   },
   "outputs": [],
   "source": [
    "x_train, y_train = process_data(train_raw)\n",
    "x_test, y_test = process_data(test_raw)"
   ]
  },
  {
   "cell_type": "code",
   "execution_count": 11,
   "metadata": {
    "collapsed": false
   },
   "outputs": [
    {
     "data": {
      "text/plain": [
       "((1605, 123), (1605,), (30956, 123), (30956,))"
      ]
     },
     "execution_count": 11,
     "metadata": {},
     "output_type": "execute_result"
    }
   ],
   "source": [
    "x_train.shape, y_train.shape, x_test.shape, y_test.shape"
   ]
  },
  {
   "cell_type": "code",
   "execution_count": 12,
   "metadata": {
    "collapsed": false
   },
   "outputs": [
    {
     "data": {
      "text/plain": [
       "(0.24610591900311526, 0.24053495283628376)"
      ]
     },
     "execution_count": 12,
     "metadata": {},
     "output_type": "execute_result"
    }
   ],
   "source": [
    "np.sum(y_train) / len(y_train), np.sum(y_test) / len(y_test)"
   ]
  },
  {
   "cell_type": "code",
   "execution_count": 13,
   "metadata": {
    "collapsed": true
   },
   "outputs": [],
   "source": [
    "from common import split_data"
   ]
  },
  {
   "cell_type": "code",
   "execution_count": 14,
   "metadata": {
    "collapsed": false
   },
   "outputs": [],
   "source": [
    "batch_size = 64\n",
    "train_data = split_data(x_train, y_train, batch_size, shuffle=True)\n",
    "test_data = split_data(x_test, y_test, batch_size, shuffle=True)"
   ]
  },
  {
   "cell_type": "code",
   "execution_count": 15,
   "metadata": {
    "collapsed": false
   },
   "outputs": [
    {
     "data": {
      "text/plain": [
       "array([[ 0.,  0.,  0., ...,  0.,  0.,  0.],\n",
       "       [ 0.,  1.,  0., ...,  0.,  0.,  0.],\n",
       "       [ 1.,  0.,  0., ...,  0.,  0.,  0.],\n",
       "       ..., \n",
       "       [ 0.,  0.,  0., ...,  0.,  0.,  0.],\n",
       "       [ 0.,  0.,  0., ...,  0.,  0.,  0.],\n",
       "       [ 0.,  0.,  0., ...,  0.,  0.,  0.]])"
      ]
     },
     "execution_count": 15,
     "metadata": {},
     "output_type": "execute_result"
    }
   ],
   "source": [
    "train_data[0][0]"
   ]
  },
  {
   "cell_type": "code",
   "execution_count": 16,
   "metadata": {
    "collapsed": true
   },
   "outputs": [],
   "source": [
    "def logistic_regression(w, b, x):\n",
    "    return logistic(np.dot(x, np.squeeze(w)) + b)"
   ]
  },
  {
   "cell_type": "code",
   "execution_count": 17,
   "metadata": {
    "collapsed": true
   },
   "outputs": [],
   "source": [
    "def log_likelihood(yhat, y):\n",
    "    return - np.nansum(y * np.log(yhat) + (1 - y) * np.log(1 - yhat))"
   ]
  },
  {
   "cell_type": "markdown",
   "metadata": {},
   "source": [
    "objective function $G(w, b)$:\n",
    "\n",
    "$$- \\sum_i {y_i log(\\hat{y}_i) + (1 - y_i) \\log(1 - \\hat{y}_i) }$$"
   ]
  },
  {
   "cell_type": "markdown",
   "metadata": {},
   "source": [
    "where $\\hat{y} = \\frac{1}{1 + \\exp(- (wx + b))}$\n"
   ]
  },
  {
   "cell_type": "markdown",
   "metadata": {},
   "source": [
    "gradient of $G(w, b)$:\n",
    "\n",
    "$$\n",
    "\\frac{dG}{dw} = - \\sum_i {\\frac{ D ( y_i log(\\hat{y}_i) + (1 - y_i) \\log(1 - \\hat{y}_i) ) }{dw}}\n",
    "$$"
   ]
  },
  {
   "cell_type": "code",
   "execution_count": 18,
   "metadata": {
    "collapsed": true
   },
   "outputs": [],
   "source": [
    "# D(yhat) / dw\n",
    "# = D((1 + exp(-wx - b))^-1) / dw\n",
    "# = -1 * (1 + exp(-wx - b))^-2 * D((1 + exp(-wx - b))) / dw\n",
    "# = - (1 + exp(-wx - b))^-2 * D(exp(-wx - b)) / dw\n",
    "# = - (1 + exp(-wx - b))^-2 * exp(-wx - b) * D(-wx - b) / dw\n",
    "# = (1 + exp(-wx - b))^-2 * exp(-wx - b) * x"
   ]
  },
  {
   "cell_type": "code",
   "execution_count": 19,
   "metadata": {
    "collapsed": true
   },
   "outputs": [],
   "source": [
    "# D(yhat) / b\n",
    "# = D((1 + exp(-wx - b))^-1) / db\n",
    "# = - (1 + exp(-wx - b))^-2 * exp(-wx - b) * D(-wx - b) / db\n",
    "# = (1 + exp(-wx - b))^-2 * exp(-wx - b)"
   ]
  },
  {
   "cell_type": "code",
   "execution_count": 20,
   "metadata": {
    "collapsed": true
   },
   "outputs": [],
   "source": [
    "# D(y log(yhat)) / dw\n",
    "# = y * D(log(yhat)) / dw\n",
    "# = y * 1 / yhat * D(yhat) / dw\n",
    "# = y / yhat * D(yhat) / dw\n",
    "\n",
    "# D(y log(yhat)) / db\n",
    "# = y / yhat * D(yhat) / db"
   ]
  },
  {
   "cell_type": "code",
   "execution_count": 21,
   "metadata": {
    "collapsed": true
   },
   "outputs": [],
   "source": [
    "# D((1 - y) log(1 - yhat)) / dw\n",
    "# = (1 - y) D(log(1 - yhat)) / dw\n",
    "# = (1 - y) * 1 / (1 - yhat) * (-D(yhat) / dw)\n",
    "# = - (1 - y) / (1 - yhat) * D(yhat) / dw\n",
    "\n",
    "# D((1 - y) log(1 - yhat)) / db\n",
    "# = - (1 - y) / (1 - yhat) * D(yhat) / db"
   ]
  },
  {
   "cell_type": "code",
   "execution_count": 22,
   "metadata": {
    "collapsed": false
   },
   "outputs": [],
   "source": [
    "def dyhat_db(w, b, x):\n",
    "    # (1 + exp(-wx - b))^-2 * exp(-wx - b)\n",
    "    exp_wx_b = np.exp(-np.dot(x, w) - b)\n",
    "    return (1 + exp_wx_b)**(-2) * exp_wx_b\n",
    "\n",
    "def dyhat_dw(w, b, x):\n",
    "    # (1 + exp(-wx - b))^-2 * exp(-wx - b) * x\n",
    "    dy_db = dyhat_db(w, b, x)\n",
    "    return dy_db[:, np.newaxis] * x\n",
    "\n",
    "def gradient(w, b, x, y):\n",
    "    yhat = logistic_regression(w, b, x)\n",
    "    y_yhat = y / yhat\n",
    "    y1_yhat1 = -(1 - y) / (1 - yhat)\n",
    "    # D(yhat) / db\n",
    "    dy_dw = dyhat_dw(w, b, x)\n",
    "    # D(yhat) / dw\n",
    "    dy_db = dyhat_db(w, b, x)\n",
    "    #print(dy_dw.shape, dy_db.shape)\n",
    "    # D(y log(yhat)) / dw\n",
    "    dylogy_dw = y_yhat[:, np.newaxis] * dy_dw\n",
    "    # D(y log(yhat)) / db\n",
    "    dylogy_db = y_yhat * dy_db\n",
    "    # D((1 - y) log(1 - yhat)) / dw\n",
    "    d1ylog1y_dw = y1_yhat1[:, np.newaxis] * dy_dw\n",
    "    # D((1 - y) log(1 - yhat)) / db\n",
    "    d1ylog1y_db = y1_yhat1 * dy_db\n",
    "    # dG / dw\n",
    "    dG_dw = -np.sum(dylogy_dw + d1ylog1y_dw, axis=0)\n",
    "    # dG / db\n",
    "    #print(dylogy_db, d1ylog1y_db)\n",
    "    dG_db = -np.sum(dylogy_db + d1ylog1y_db, axis=0)\n",
    "    #print(dG_dw.shape, dG_db.shape)\n",
    "    return dG_dw, dG_db"
   ]
  },
  {
   "cell_type": "code",
   "execution_count": 23,
   "metadata": {
    "collapsed": true
   },
   "outputs": [],
   "source": [
    "def sgd_update(w, b, x, y, rate):\n",
    "    grad_w, grad_b = gradient(w, b, x, y)\n",
    "#     print(grad_w)\n",
    "#     print(grad_b)\n",
    "    w[:] = w - rate * grad_w\n",
    "    b[:] = b - rate * grad_b\n",
    "    return w, b"
   ]
  },
  {
   "cell_type": "code",
   "execution_count": 24,
   "metadata": {
    "collapsed": true
   },
   "outputs": [],
   "source": [
    "epochs = 100\n",
    "learning_rate = .001"
   ]
  },
  {
   "cell_type": "code",
   "execution_count": 25,
   "metadata": {
    "collapsed": false
   },
   "outputs": [],
   "source": [
    "w = np.random.randn(num_features)\n",
    "b = np.random.randn(1)\n",
    "# print(w, b)"
   ]
  },
  {
   "cell_type": "code",
   "execution_count": 26,
   "metadata": {
    "collapsed": false
   },
   "outputs": [
    {
     "name": "stdout",
     "output_type": "stream",
     "text": [
      "2423.6891237\n",
      "1395.74603001\n",
      "1223.1204199\n",
      "1118.88477438\n",
      "1041.84996065\n",
      "982.932547815\n",
      "936.761476291\n",
      "899.7232083\n",
      "869.354439211\n",
      "843.957624719\n",
      "822.345908958\n",
      "803.675469581\n",
      "787.335531081\n",
      "772.875853782\n",
      "759.958492145\n",
      "748.325320278\n",
      "737.775875082\n",
      "728.152018408\n",
      "719.327160125\n",
      "711.198572704\n",
      "703.681831126\n",
      "696.706734935\n",
      "690.214278481\n",
      "684.154372427\n",
      "678.484110431\n",
      "673.166436065\n",
      "668.169106688\n",
      "663.463879857\n",
      "659.025868047\n",
      "654.833021831\n",
      "650.86571195\n",
      "647.106388169\n",
      "643.539298272\n",
      "640.15025457\n",
      "636.926438257\n",
      "633.856234212\n",
      "630.929090463\n",
      "628.135397844\n",
      "625.46638628\n",
      "622.914034922\n",
      "620.470993863\n",
      "618.13051564\n",
      "615.88639505\n",
      "613.73291607\n",
      "611.664804887\n",
      "609.67718822\n",
      "607.76555622\n",
      "605.925729377\n",
      "604.153828937\n",
      "602.446250392\n",
      "600.799639685\n",
      "599.210871817\n",
      "597.677031574\n",
      "596.195396148\n",
      "594.763419425\n",
      "593.378717784\n",
      "592.039057218\n",
      "590.742341659\n",
      "589.486602372\n",
      "588.269988307\n",
      "587.090757312\n",
      "585.947268124\n",
      "584.837973061\n",
      "583.761411335\n",
      "582.716202944\n",
      "581.701043065\n",
      "580.714696924\n",
      "579.755995075\n",
      "578.82382907\n",
      "577.917147471\n",
      "577.034952172\n",
      "576.176295015\n",
      "575.34027466\n",
      "574.526033695\n",
      "573.732755964\n",
      "572.959664089\n",
      "572.206017174\n",
      "571.471108675\n",
      "570.754264423\n",
      "570.054840781\n",
      "569.372222935\n",
      "568.705823296\n",
      "568.055080012\n",
      "567.419455583\n",
      "566.798435561\n",
      "566.191527336\n",
      "565.598259004\n",
      "565.018178304\n",
      "564.450851616\n",
      "563.895863031\n",
      "563.352813471\n",
      "562.821319864\n",
      "562.301014366\n",
      "561.791543632\n",
      "561.292568126\n",
      "560.803761476\n",
      "560.324809856\n",
      "559.855411413\n",
      "559.395275719\n",
      "558.944123255\n"
     ]
    }
   ],
   "source": [
    "for e in range(epochs):\n",
    "    cumulative_lld = 0\n",
    "    for bx, by in train_data:\n",
    "        yhat = logistic_regression(w, b, bx)\n",
    "        lld = log_likelihood(yhat, by)\n",
    "        cumulative_lld += lld\n",
    "        sgd_update(w, b, bx, by, learning_rate)\n",
    "#         print(w, b)\n",
    "    print(cumulative_lld)"
   ]
  },
  {
   "cell_type": "code",
   "execution_count": 27,
   "metadata": {
    "collapsed": false
   },
   "outputs": [
    {
     "name": "stdout",
     "output_type": "stream",
     "text": [
      "0.835443855795\n"
     ]
    }
   ],
   "source": [
    "num_correct = 0.0\n",
    "num_total = len(y_test)\n",
    "for tx, ty in test_data:\n",
    "    yhat = logistic_regression(w, b, tx)\n",
    "    prediction = (np.sign(yhat - 0.5) + 1) / 2\n",
    "    num_correct += np.sum(prediction == ty)\n",
    "print(num_correct / num_total)"
   ]
  }
 ],
 "metadata": {
  "anaconda-cloud": {},
  "kernelspec": {
   "display_name": "Python [conda root]",
   "language": "python",
   "name": "conda-root-py"
  },
  "language_info": {
   "codemirror_mode": {
    "name": "ipython",
    "version": 3
   },
   "file_extension": ".py",
   "mimetype": "text/x-python",
   "name": "python",
   "nbconvert_exporter": "python",
   "pygments_lexer": "ipython3",
   "version": "3.5.2"
  }
 },
 "nbformat": 4,
 "nbformat_minor": 1
}
