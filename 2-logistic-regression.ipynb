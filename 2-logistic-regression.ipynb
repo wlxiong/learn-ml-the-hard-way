{
 "cells": [
  {
   "cell_type": "markdown",
   "metadata": {},
   "source": [
    "## Logistic regression from scratch\n",
    "\n",
    "https://gluon.mxnet.io/chapter02_supervised-learning/logistic-regression-gluon.html"
   ]
  },
  {
   "cell_type": "code",
   "execution_count": 1,
   "metadata": {},
   "outputs": [],
   "source": [
    "import numpy as np\n",
    "import matplotlib.pyplot as plt\n",
    "%matplotlib inline"
   ]
  },
  {
   "cell_type": "markdown",
   "metadata": {},
   "source": [
    "Sigmoid function\n",
    "\n",
    "$\\sigma(z) = \\frac{1}{1 + \\exp(-z)}$"
   ]
  },
  {
   "cell_type": "code",
   "execution_count": 2,
   "metadata": {},
   "outputs": [],
   "source": [
    "def logistic(z):\n",
    "    return 1. / (1. + np.exp(-z))"
   ]
  },
  {
   "cell_type": "code",
   "execution_count": 3,
   "metadata": {},
   "outputs": [],
   "source": [
    "x = np.arange(-5, 5, .1)\n",
    "y = logistic(x)"
   ]
  },
  {
   "cell_type": "code",
   "execution_count": 4,
   "metadata": {},
   "outputs": [
    {
     "data": {
      "text/plain": [
       "[<matplotlib.lines.Line2D at 0x1f6cbe76390>]"
      ]
     },
     "execution_count": 4,
     "metadata": {},
     "output_type": "execute_result"
    },
    {
     "data": {
      "image/png": "[encoded data removed]",
      "text/plain": [
       "<Figure size 432x288 with 1 Axes>"
      ]
     },
     "metadata": {},
     "output_type": "display_data"
    }
   ],
   "source": [
    "plt.plot(x, y)"
   ]
  },
  {
   "cell_type": "markdown",
   "metadata": {},
   "source": [
    "https://www.csie.ntu.edu.tw/~cjlin/libsvmtools/datasets/binary.html\n",
    "\n",
    "Preprocessing: The original Adult data set has 14 features, among which six are continuous and eight are categorical. In this data set, continuous features are discretized into quantiles, and each quantile is represented by a binary feature. Also, a categorical feature with m categories is converted to m binary features. Details on how each feature is converted can be found in the beginning of each file from this page. [JP98a]\n",
    "```\n",
    "# of classes: 2\n",
    "# of data: 1,605 / 30,956 (testing)\n",
    "# of features: 123 / 123 (testing)\n",
    "```"
   ]
  },
  {
   "cell_type": "code",
   "execution_count": 5,
   "metadata": {},
   "outputs": [],
   "source": [
    "num_features = 123"
   ]
  },
  {
   "cell_type": "code",
   "execution_count": 6,
   "metadata": {},
   "outputs": [],
   "source": [
    "with open('data/adult/a1a') as f:\n",
    "    train_raw = f.readlines()\n",
    "\n",
    "with open('data/adult/a1a.t') as f:\n",
    "    test_raw = f.readlines()"
   ]
  },
  {
   "cell_type": "code",
   "execution_count": 7,
   "metadata": {},
   "outputs": [
    {
     "data": {
      "text/plain": [
       "'-1 3:1 11:1 14:1 19:1 39:1 42:1 55:1 64:1 67:1 73:1 75:1 76:1 80:1 83:1 \\n'"
      ]
     },
     "execution_count": 7,
     "metadata": {},
     "output_type": "execute_result"
    }
   ],
   "source": [
    "train_raw[0]"
   ]
  },
  {
   "cell_type": "code",
   "execution_count": 8,
   "metadata": {},
   "outputs": [
    {
     "data": {
      "text/plain": [
       "['3', '1']"
      ]
     },
     "execution_count": 8,
     "metadata": {},
     "output_type": "execute_result"
    }
   ],
   "source": [
    "train_raw[0].split()[1:][0].split(':', 1)"
   ]
  },
  {
   "cell_type": "code",
   "execution_count": 9,
   "metadata": {},
   "outputs": [],
   "source": [
    "def process_data(raw_data):\n",
    "    num_examples = len(raw_data)\n",
    "    x = np.zeros((num_examples, num_features))\n",
    "    y = np.zeros((num_examples,))\n",
    "    for i, line in enumerate(raw_data):\n",
    "        tokens = line.split()\n",
    "        y[i] = (int(tokens[0]) + 1) / 2\n",
    "        for t in tokens[1:]:\n",
    "            findex, _ = t.split(':', 1)\n",
    "            findex = int(findex) - 1\n",
    "            x[i, findex] = 1\n",
    "    return x, y"
   ]
  },
  {
   "cell_type": "code",
   "execution_count": 10,
   "metadata": {},
   "outputs": [],
   "source": [
    "x_train, y_train = process_data(train_raw)\n",
    "x_test, y_test = process_data(test_raw)"
   ]
  },
  {
   "cell_type": "code",
   "execution_count": 11,
   "metadata": {},
   "outputs": [
    {
     "data": {
      "text/plain": [
       "((1605, 123), (1605,), (30956, 123), (30956,))"
      ]
     },
     "execution_count": 11,
     "metadata": {},
     "output_type": "execute_result"
    }
   ],
   "source": [
    "x_train.shape, y_train.shape, x_test.shape, y_test.shape"
   ]
  },
  {
   "cell_type": "code",
   "execution_count": 12,
   "metadata": {},
   "outputs": [
    {
     "data": {
      "text/plain": [
       "(0.24610591900311526, 0.24053495283628376)"
      ]
     },
     "execution_count": 12,
     "metadata": {},
     "output_type": "execute_result"
    }
   ],
   "source": [
    "np.sum(y_train) / len(y_train), np.sum(y_test) / len(y_test)"
   ]
  },
  {
   "cell_type": "code",
   "execution_count": 13,
   "metadata": {},
   "outputs": [],
   "source": [
    "from common import split_data"
   ]
  },
  {
   "cell_type": "code",
   "execution_count": 14,
   "metadata": {},
   "outputs": [],
   "source": [
    "batch_size = 64\n",
    "train_data = split_data(x_train, y_train, batch_size, shuffle=True)\n",
    "test_data = split_data(x_test, y_test, batch_size, shuffle=True)"
   ]
  },
  {
   "cell_type": "code",
   "execution_count": 15,
   "metadata": {},
   "outputs": [
    {
     "data": {
      "text/plain": [
       "array([[0., 0., 0., ..., 0., 0., 0.],\n",
       "       [0., 0., 0., ..., 0., 0., 0.],\n",
       "       [0., 0., 0., ..., 0., 0., 0.],\n",
       "       ...,\n",
       "       [0., 0., 0., ..., 0., 0., 0.],\n",
       "       [0., 1., 0., ..., 0., 0., 0.],\n",
       "       [0., 0., 0., ..., 0., 0., 0.]])"
      ]
     },
     "execution_count": 15,
     "metadata": {},
     "output_type": "execute_result"
    }
   ],
   "source": [
    "train_data[0][0]"
   ]
  },
  {
   "cell_type": "code",
   "execution_count": 16,
   "metadata": {},
   "outputs": [],
   "source": [
    "def logistic_regression(w, b, x):\n",
    "    return logistic(np.dot(x, np.squeeze(w)) + b)"
   ]
  },
  {
   "cell_type": "code",
   "execution_count": 17,
   "metadata": {},
   "outputs": [],
   "source": [
    "def log_likelihood(yhat, y):\n",
    "    return - np.nansum(y * np.log(yhat) + (1 - y) * np.log(1 - yhat))"
   ]
  },
  {
   "cell_type": "markdown",
   "metadata": {},
   "source": [
    "objective function $G(w, b)$:\n",
    "\n",
    "$$- \\sum_i {y_i log(\\hat{y}_i) + (1 - y_i) \\log(1 - \\hat{y}_i) }$$"
   ]
  },
  {
   "cell_type": "markdown",
   "metadata": {},
   "source": [
    "where $\\hat{y} = \\frac{1}{1 + \\exp(- (wx + b))}$\n"
   ]
  },
  {
   "cell_type": "markdown",
   "metadata": {},
   "source": [
    "gradient of $G(w, b)$:\n",
    "\n",
    "$$\n",
    "\\frac{dG}{dw} = - \\sum_i {\\frac{ D ( y_i log(\\hat{y}_i) + (1 - y_i) \\log(1 - \\hat{y}_i) ) }{dw}}\n",
    "$$"
   ]
  },
  {
   "cell_type": "code",
   "execution_count": 18,
   "metadata": {},
   "outputs": [],
   "source": [
    "# D(yhat) / dw\n",
    "# = D((1 + exp(-wx - b))^-1) / dw\n",
    "# = -1 * (1 + exp(-wx - b))^-2 * D((1 + exp(-wx - b))) / dw\n",
    "# = - (1 + exp(-wx - b))^-2 * D(exp(-wx - b)) / dw\n",
    "# = - (1 + exp(-wx - b))^-2 * exp(-wx - b) * D(-wx - b) / dw\n",
    "# = (1 + exp(-wx - b))^-2 * exp(-wx - b) * x"
   ]
  },
  {
   "cell_type": "code",
   "execution_count": 19,
   "metadata": {},
   "outputs": [],
   "source": [
    "# D(yhat) / b\n",
    "# = D((1 + exp(-wx - b))^-1) / db\n",
    "# = - (1 + exp(-wx - b))^-2 * exp(-wx - b) * D(-wx - b) / db\n",
    "# = (1 + exp(-wx - b))^-2 * exp(-wx - b)"
   ]
  },
  {
   "cell_type": "code",
   "execution_count": 20,
   "metadata": {},
   "outputs": [],
   "source": [
    "# D(y log(yhat)) / dw\n",
    "# = y * D(log(yhat)) / dw\n",
    "# = y * 1 / yhat * D(yhat) / dw\n",
    "# = y / yhat * D(yhat) / dw\n",
    "\n",
    "# D(y log(yhat)) / db\n",
    "# = y / yhat * D(yhat) / db"
   ]
  },
  {
   "cell_type": "code",
   "execution_count": 21,
   "metadata": {},
   "outputs": [],
   "source": [
    "# D((1 - y) log(1 - yhat)) / dw\n",
    "# = (1 - y) D(log(1 - yhat)) / dw\n",
    "# = (1 - y) * 1 / (1 - yhat) * (-D(yhat) / dw)\n",
    "# = - (1 - y) / (1 - yhat) * D(yhat) / dw\n",
    "\n",
    "# D((1 - y) log(1 - yhat)) / db\n",
    "# = - (1 - y) / (1 - yhat) * D(yhat) / db"
   ]
  },
  {
   "cell_type": "code",
   "execution_count": 22,
   "metadata": {},
   "outputs": [],
   "source": [
    "def dyhat_db(w, b, x):\n",
    "    # (1 + exp(-wx - b))^-2 * exp(-wx - b)\n",
    "    exp_wx_b = np.exp(-np.dot(x, w) - b)\n",
    "    return (1 + exp_wx_b)**(-2) * exp_wx_b\n",
    "\n",
    "def dyhat_dw(w, b, x):\n",
    "    # (1 + exp(-wx - b))^-2 * exp(-wx - b) * x\n",
    "    dy_db = dyhat_db(w, b, x)\n",
    "    return dy_db[:, np.newaxis] * x\n",
    "\n",
    "def gradient(w, b, x, y):\n",
    "    yhat = logistic_regression(w, b, x)\n",
    "    y_yhat = y / yhat\n",
    "    y1_yhat1 = -(1 - y) / (1 - yhat)\n",
    "    # D(yhat) / db\n",
    "    dy_dw = dyhat_dw(w, b, x)\n",
    "    # D(yhat) / dw\n",
    "    dy_db = dyhat_db(w, b, x)\n",
    "    #print(dy_dw.shape, dy_db.shape)\n",
    "    # D(y log(yhat)) / dw\n",
    "    dylogy_dw = y_yhat[:, np.newaxis] * dy_dw\n",
    "    # D(y log(yhat)) / db\n",
    "    dylogy_db = y_yhat * dy_db\n",
    "    # D((1 - y) log(1 - yhat)) / dw\n",
    "    d1ylog1y_dw = y1_yhat1[:, np.newaxis] * dy_dw\n",
    "    # D((1 - y) log(1 - yhat)) / db\n",
    "    d1ylog1y_db = y1_yhat1 * dy_db\n",
    "    # dG / dw\n",
    "    dG_dw = -np.sum(dylogy_dw + d1ylog1y_dw, axis=0)\n",
    "    # dG / db\n",
    "    #print(dylogy_db, d1ylog1y_db)\n",
    "    dG_db = -np.sum(dylogy_db + d1ylog1y_db, axis=0)\n",
    "    #print(dG_dw.shape, dG_db.shape)\n",
    "    return dG_dw, dG_db"
   ]
  },
  {
   "cell_type": "code",
   "execution_count": 23,
   "metadata": {},
   "outputs": [],
   "source": [
    "def sgd_update(w, b, x, y, rate):\n",
    "    grad_w, grad_b = gradient(w, b, x, y)\n",
    "#     print(grad_w)\n",
    "#     print(grad_b)\n",
    "    w[:] = w - rate * grad_w\n",
    "    b[:] = b - rate * grad_b\n",
    "    return w, b"
   ]
  },
  {
   "cell_type": "code",
   "execution_count": 24,
   "metadata": {},
   "outputs": [],
   "source": [
    "epochs = 100\n",
    "learning_rate = .001"
   ]
  },
  {
   "cell_type": "code",
   "execution_count": 25,
   "metadata": {},
   "outputs": [],
   "source": [
    "w = np.random.randn(num_features)\n",
    "b = np.random.randn(1)\n",
    "# print(w, b)"
   ]
  },
  {
   "cell_type": "code",
   "execution_count": 26,
   "metadata": {},
   "outputs": [
    {
     "name": "stdout",
     "output_type": "stream",
     "text": [
      "1451.789982367239\n",
      "1162.0351315856472\n",
      "1104.962901251723\n",
      "1068.4052755569326\n",
      "1036.8497414946032\n",
      "1008.4497605912713\n",
      "982.5910473902312\n",
      "958.8778021147172\n",
      "937.0079258550029\n",
      "916.7407765534596\n",
      "897.8813753038324\n",
      "880.2701174029448\n",
      "863.7752971507188\n",
      "848.2874155351424\n",
      "833.7147412558721\n",
      "819.9798016160761\n",
      "807.0165860068041\n",
      "794.7683075570682\n",
      "783.1856086457565\n",
      "772.2251228681135\n",
      "761.8483248728605\n",
      "752.0206132391246\n",
      "742.7105820235466\n",
      "733.8894448265825\n",
      "725.5305818236345\n",
      "717.6091855613287\n",
      "710.1019856869763\n",
      "702.9870363544999\n",
      "696.2435529955217\n",
      "689.8517875967596\n",
      "683.7929336911956\n",
      "678.0490540235429\n",
      "672.6030253319609\n",
      "667.4384959179571\n",
      "662.5398526674699\n",
      "657.8921949551454\n",
      "653.4813134386487\n",
      "649.2936721692098\n",
      "645.3163927525037\n",
      "641.5372395323053\n",
      "637.9446049711939\n",
      "634.5274945888799\n",
      "631.2755109981046\n",
      "628.1788367498873\n",
      "625.2282158580432\n",
      "622.414934009958\n",
      "619.7307975805892\n",
      "617.1681116466286\n",
      "614.7196572480393\n",
      "612.3786681677454\n",
      "610.1388075019019\n",
      "607.9941442782954\n",
      "605.9391303544191\n",
      "603.9685777943547\n",
      "602.0776368885315\n",
      "600.2617749456291\n",
      "598.5167559531749\n",
      "596.8386211739877\n",
      "595.2236707200764\n",
      "593.6684461240504\n",
      "592.1697139104267\n",
      "590.724450155091\n",
      "589.3298260101989\n",
      "587.9831941635454\n",
      "586.6820761954832\n",
      "585.4241507924062\n",
      "584.2072427733063\n",
      "583.0293128846366\n",
      "581.8884483183987\n",
      "580.7828539088206\n",
      "579.7108439639919\n",
      "578.6708346902341\n",
      "577.6613371687023\n",
      "576.6809508456029\n",
      "575.7283574994433\n",
      "574.8023156507924\n",
      "573.901655382124\n",
      "573.0252735373743\n",
      "572.172129272851\n",
      "571.3412399330773\n",
      "570.5316772270082\n",
      "569.7425636818235\n",
      "568.9730693531737\n",
      "568.2224087723306\n",
      "567.4898381121612\n",
      "566.7746525552324\n",
      "566.0761838486267\n",
      "565.393798031257\n",
      "564.7268933205604\n",
      "564.0748981464932\n",
      "563.437269321683\n",
      "562.8134903374831\n",
      "562.2030697764761\n",
      "561.6055398327178\n",
      "561.0204549317027\n",
      "560.4473904426668\n",
      "559.8859414764146\n",
      "559.3357217624041\n",
      "558.7963625993061\n",
      "558.2675118737133\n"
     ]
    }
   ],
   "source": [
    "for e in range(epochs):\n",
    "    cumulative_lld = 0\n",
    "    for bx, by in train_data:\n",
    "        yhat = logistic_regression(w, b, bx)\n",
    "        lld = log_likelihood(yhat, by)\n",
    "        cumulative_lld += lld\n",
    "        sgd_update(w, b, bx, by, learning_rate)\n",
    "#         print(w, b)\n",
    "    print(cumulative_lld)"
   ]
  },
  {
   "cell_type": "code",
   "execution_count": 27,
   "metadata": {},
   "outputs": [
    {
     "name": "stdout",
     "output_type": "stream",
     "text": [
      "0.8307274841710816\n"
     ]
    }
   ],
   "source": [
    "num_correct = 0.0\n",
    "num_total = len(y_test)\n",
    "for tx, ty in test_data:\n",
    "    yhat = logistic_regression(w, b, tx)\n",
    "    prediction = (np.sign(yhat - 0.5) + 1) / 2\n",
    "    num_correct += np.sum(prediction == ty)\n",
    "print(num_correct / num_total)"
   ]
  }
 ],
 "metadata": {
  "anaconda-cloud": {},
  "kernelspec": {
   "display_name": "Python 3",
   "language": "python",
   "name": "python3"
  },
  "language_info": {
   "codemirror_mode": {
    "name": "ipython",
    "version": 3
   },
   "file_extension": ".py",
   "mimetype": "text/x-python",
   "name": "python",
   "nbconvert_exporter": "python",
   "pygments_lexer": "ipython3",
   "version": "3.6.5"
  }
 },
 "nbformat": 4,
 "nbformat_minor": 1
}
