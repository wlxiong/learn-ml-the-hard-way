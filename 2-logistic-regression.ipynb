{
 "cells": [
  {
   "cell_type": "markdown",
   "metadata": {},
   "source": [
    "## Logistic regression from scratch\n",
    "\n",
    "https://gluon.mxnet.io/chapter02_supervised-learning/logistic-regression-gluon.html"
   ]
  },
  {
   "cell_type": "code",
   "execution_count": 1,
   "metadata": {
    "collapsed": true
   },
   "outputs": [],
   "source": [
    "import numpy as np\n",
    "import matplotlib.pyplot as plt\n",
    "%matplotlib inline"
   ]
  },
  {
   "cell_type": "markdown",
   "metadata": {},
   "source": [
    "Sigmoid function\n",
    "\n",
    "$\\sigma(z) = \\frac{1}{1 + \\exp(-z)}$"
   ]
  },
  {
   "cell_type": "code",
   "execution_count": 2,
   "metadata": {
    "collapsed": true
   },
   "outputs": [],
   "source": [
    "def logistic(z):\n",
    "    return 1. / (1. + np.exp(-z))"
   ]
  },
  {
   "cell_type": "code",
   "execution_count": 3,
   "metadata": {
    "collapsed": true
   },
   "outputs": [],
   "source": [
    "x = np.arange(-5, 5, .1)\n",
    "y = logistic(x)"
   ]
  },
  {
   "cell_type": "code",
   "execution_count": 4,
   "metadata": {
    "collapsed": false
   },
   "outputs": [
    {
     "data": {
      "text/plain": [
       "[<matplotlib.lines.Line2D at 0x1d98b31bb70>]"
      ]
     },
     "execution_count": 4,
     "metadata": {},
     "output_type": "execute_result"
    },
    {
     "data": {
      "image/png": "[encoded data removed]",
      "text/plain": [
       "<matplotlib.figure.Figure at 0x1d98b174400>"
      ]
     },
     "metadata": {},
     "output_type": "display_data"
    }
   ],
   "source": [
    "plt.plot(x, y)"
   ]
  },
  {
   "cell_type": "markdown",
   "metadata": {},
   "source": [
    "https://www.csie.ntu.edu.tw/~cjlin/libsvmtools/datasets/binary.html\n",
    "\n",
    "Preprocessing: The original Adult data set has 14 features, among which six are continuous and eight are categorical. In this data set, continuous features are discretized into quantiles, and each quantile is represented by a binary feature. Also, a categorical feature with m categories is converted to m binary features. Details on how each feature is converted can be found in the beginning of each file from this page. [JP98a]\n",
    "```\n",
    "# of classes: 2\n",
    "# of data: 1,605 / 30,956 (testing)\n",
    "# of features: 123 / 123 (testing)\n",
    "```"
   ]
  },
  {
   "cell_type": "code",
   "execution_count": 5,
   "metadata": {
    "collapsed": true
   },
   "outputs": [],
   "source": [
    "num_features = 123"
   ]
  },
  {
   "cell_type": "code",
   "execution_count": 6,
   "metadata": {
    "collapsed": true
   },
   "outputs": [],
   "source": [
    "with open('data/2/a1a') as f:\n",
    "    train_raw = f.readlines()\n",
    "\n",
    "with open('data/2/a1a.t') as f:\n",
    "    test_raw = f.readlines()"
   ]
  },
  {
   "cell_type": "code",
   "execution_count": 7,
   "metadata": {
    "collapsed": false
   },
   "outputs": [
    {
     "data": {
      "text/plain": [
       "'-1 3:1 11:1 14:1 19:1 39:1 42:1 55:1 64:1 67:1 73:1 75:1 76:1 80:1 83:1 \\n'"
      ]
     },
     "execution_count": 7,
     "metadata": {},
     "output_type": "execute_result"
    }
   ],
   "source": [
    "train_raw[0]"
   ]
  },
  {
   "cell_type": "code",
   "execution_count": 8,
   "metadata": {
    "collapsed": false
   },
   "outputs": [
    {
     "data": {
      "text/plain": [
       "['3', '1']"
      ]
     },
     "execution_count": 8,
     "metadata": {},
     "output_type": "execute_result"
    }
   ],
   "source": [
    "train_raw[0].split()[1:][0].split(':', 1)"
   ]
  },
  {
   "cell_type": "code",
   "execution_count": 9,
   "metadata": {
    "collapsed": true
   },
   "outputs": [],
   "source": [
    "def process_data(raw_data):\n",
    "    num_examples = len(raw_data)\n",
    "    x = np.zeros((num_examples, num_features))\n",
    "    y = np.zeros((num_examples,))\n",
    "    for i, line in enumerate(raw_data):\n",
    "        tokens = line.split()\n",
    "        y[i] = (int(tokens[0]) + 1) / 2\n",
    "        for t in tokens[1:]:\n",
    "            findex, _ = t.split(':', 1)\n",
    "            findex = int(findex) - 1\n",
    "            x[i, findex] = 1\n",
    "    return x, y"
   ]
  },
  {
   "cell_type": "code",
   "execution_count": 10,
   "metadata": {
    "collapsed": false
   },
   "outputs": [],
   "source": [
    "x_train, y_train = process_data(train_raw)\n",
    "x_test, y_test = process_data(test_raw)"
   ]
  },
  {
   "cell_type": "code",
   "execution_count": 11,
   "metadata": {
    "collapsed": false
   },
   "outputs": [
    {
     "data": {
      "text/plain": [
       "((1605, 123), (1605,), (30956, 123), (30956,))"
      ]
     },
     "execution_count": 11,
     "metadata": {},
     "output_type": "execute_result"
    }
   ],
   "source": [
    "x_train.shape, y_train.shape, x_test.shape, y_test.shape"
   ]
  },
  {
   "cell_type": "code",
   "execution_count": 12,
   "metadata": {
    "collapsed": false
   },
   "outputs": [
    {
     "data": {
      "text/plain": [
       "(0.24610591900311526, 0.24053495283628376)"
      ]
     },
     "execution_count": 12,
     "metadata": {},
     "output_type": "execute_result"
    }
   ],
   "source": [
    "np.sum(y_train) / len(y_train), np.sum(y_test) / len(y_test)"
   ]
  },
  {
   "cell_type": "code",
   "execution_count": 13,
   "metadata": {
    "collapsed": true
   },
   "outputs": [],
   "source": [
    "def split_data(x, y, batch_size, shuffle=False):\n",
    "    z = list(zip(x, y))\n",
    "    if shuffle:\n",
    "        import random\n",
    "        random.shuffle(z)\n",
    "    batches = []\n",
    "    for i in range(0, len(z), batch_size):\n",
    "        chunk = z[i:i+batch_size]\n",
    "        x, y = zip(*chunk)\n",
    "        batches.append((np.array(x), np.array(y)))\n",
    "    return batches"
   ]
  },
  {
   "cell_type": "code",
   "execution_count": 14,
   "metadata": {
    "collapsed": false
   },
   "outputs": [],
   "source": [
    "batch_size = 64\n",
    "train_data = split_data(x_train, y_train, batch_size, shuffle=True)\n",
    "test_data = split_data(x_test, y_test, batch_size, shuffle=True)"
   ]
  },
  {
   "cell_type": "code",
   "execution_count": 15,
   "metadata": {
    "collapsed": false
   },
   "outputs": [
    {
     "data": {
      "text/plain": [
       "array([[ 0.,  1.,  0., ...,  0.,  0.,  0.],\n",
       "       [ 0.,  0.,  0., ...,  0.,  0.,  0.],\n",
       "       [ 0.,  0.,  0., ...,  0.,  0.,  0.],\n",
       "       ..., \n",
       "       [ 0.,  1.,  0., ...,  0.,  0.,  0.],\n",
       "       [ 0.,  0.,  1., ...,  0.,  0.,  0.],\n",
       "       [ 0.,  0.,  1., ...,  0.,  0.,  0.]])"
      ]
     },
     "execution_count": 15,
     "metadata": {},
     "output_type": "execute_result"
    }
   ],
   "source": [
    "train_data[0][0]"
   ]
  },
  {
   "cell_type": "code",
   "execution_count": 16,
   "metadata": {
    "collapsed": true
   },
   "outputs": [],
   "source": [
    "def logistic_regression(w, b, x):\n",
    "    return logistic(np.dot(x, np.squeeze(w)) + b)"
   ]
  },
  {
   "cell_type": "code",
   "execution_count": 17,
   "metadata": {
    "collapsed": true
   },
   "outputs": [],
   "source": [
    "def log_likelihood(yhat, y):\n",
    "    return - np.nansum(y * np.log(yhat) + (1 - y) * np.log(1 - yhat))"
   ]
  },
  {
   "cell_type": "markdown",
   "metadata": {},
   "source": [
    "objective function $G(w, b)$:\n",
    "\n",
    "$$- \\sum_i {y_i log(\\hat{y}_i) + (1 - y_i) \\log(1 - \\hat{y}_i) }$$"
   ]
  },
  {
   "cell_type": "markdown",
   "metadata": {},
   "source": [
    "where $\\hat{y} = \\frac{1}{1 + \\exp(- (wx + b))}$\n"
   ]
  },
  {
   "cell_type": "markdown",
   "metadata": {},
   "source": [
    "gradient of $G(w, b)$:\n",
    "\n",
    "$$\n",
    "\\frac{dG}{dw} = - \\sum_i {\\frac{ D ( y_i log(\\hat{y}_i) + (1 - y_i) \\log(1 - \\hat{y}_i) ) }{dw}}\n",
    "$$"
   ]
  },
  {
   "cell_type": "code",
   "execution_count": 18,
   "metadata": {
    "collapsed": true
   },
   "outputs": [],
   "source": [
    "# D(yhat) / dw\n",
    "# = D((1 + exp(-wx - b))^-1) / dw\n",
    "# = -1 * (1 + exp(-wx - b))^-2 * D((1 + exp(-wx - b))) / dw\n",
    "# = - (1 + exp(-wx - b))^-2 * D(exp(-wx - b)) / dw\n",
    "# = - (1 + exp(-wx - b))^-2 * exp(-wx - b) * D(-wx - b) / dw\n",
    "# = (1 + exp(-wx - b))^-2 * exp(-wx - b) * x"
   ]
  },
  {
   "cell_type": "code",
   "execution_count": 19,
   "metadata": {
    "collapsed": true
   },
   "outputs": [],
   "source": [
    "# D(yhat) / b\n",
    "# = D((1 + exp(-wx - b))^-1) / db\n",
    "# = - (1 + exp(-wx - b))^-2 * exp(-wx - b) * D(-wx - b) / db\n",
    "# = (1 + exp(-wx - b))^-2 * exp(-wx - b)"
   ]
  },
  {
   "cell_type": "code",
   "execution_count": 20,
   "metadata": {
    "collapsed": true
   },
   "outputs": [],
   "source": [
    "# D(y log(yhat)) / dw\n",
    "# = y * D(log(yhat)) / dw\n",
    "# = y * 1 / yhat * D(yhat) / dw\n",
    "# = y / yhat * D(yhat) / dw\n",
    "\n",
    "# D(y log(yhat)) / db\n",
    "# = y / yhat * D(yhat) / db"
   ]
  },
  {
   "cell_type": "code",
   "execution_count": 21,
   "metadata": {
    "collapsed": true
   },
   "outputs": [],
   "source": [
    "# D((1 - y) log(1 - yhat)) / dw\n",
    "# = (1 - y) D(log(1 - yhat)) / dw\n",
    "# = (1 - y) * 1 / (1 - yhat) * (-D(yhat) / dw)\n",
    "# = - (1 - y) / (1 - yhat) * D(yhat) / dw\n",
    "\n",
    "# D((1 - y) log(1 - yhat)) / db\n",
    "# = - (1 - y) / (1 - yhat) * D(yhat) / db"
   ]
  },
  {
   "cell_type": "code",
   "execution_count": 22,
   "metadata": {
    "collapsed": false
   },
   "outputs": [],
   "source": [
    "def dyhat_db(w, b, x):\n",
    "    # (1 + exp(-wx - b))^-2 * exp(-wx - b)\n",
    "    exp_wx_b = np.exp(-np.dot(x, w) - b)\n",
    "    return (1 + exp_wx_b)**(-2) * exp_wx_b\n",
    "\n",
    "def dyhat_dw(w, b, x):\n",
    "    # (1 + exp(-wx - b))^-2 * exp(-wx - b) * x\n",
    "    dy_db = dyhat_db(w, b, x)\n",
    "    return dy_db[:, np.newaxis] * x\n",
    "\n",
    "def gradient(w, b, x, y):\n",
    "    yhat = logistic_regression(w, b, x)\n",
    "    y_yhat = y / yhat\n",
    "    y1_yhat1 = -(1 - y) / (1 - yhat)\n",
    "    # D(yhat) / db\n",
    "    dy_dw = dyhat_dw(w, b, x)\n",
    "    # D(yhat) / dw\n",
    "    dy_db = dyhat_db(w, b, x)\n",
    "    #print(dy_dw.shape, dy_db.shape)\n",
    "    # D(y log(yhat)) / dw\n",
    "    dylogy_dw = y_yhat[:, np.newaxis] * dy_dw\n",
    "    # D(y log(yhat)) / db\n",
    "    dylogy_db = y_yhat * dy_db\n",
    "    # D((1 - y) log(1 - yhat)) / dw\n",
    "    d1ylog1y_dw = y1_yhat1[:, np.newaxis] * dy_dw\n",
    "    # D((1 - y) log(1 - yhat)) / db\n",
    "    d1ylog1y_db = y1_yhat1 * dy_db\n",
    "    # dG / dw\n",
    "    dG_dw = -np.sum(dylogy_dw + d1ylog1y_dw, axis=0)\n",
    "    # dG / db\n",
    "    #print(dylogy_db, d1ylog1y_db)\n",
    "    dG_db = -np.sum(dylogy_db + d1ylog1y_db, axis=0)\n",
    "    #print(dG_dw.shape, dG_db.shape)\n",
    "    return dG_dw, dG_db"
   ]
  },
  {
   "cell_type": "code",
   "execution_count": 23,
   "metadata": {
    "collapsed": true
   },
   "outputs": [],
   "source": [
    "def sgd_update(w, b, x, y, rate):\n",
    "    grad_w, grad_b = gradient(w, b, x, y)\n",
    "#     print(grad_w)\n",
    "#     print(grad_b)\n",
    "    w[:] = w - rate * grad_w\n",
    "    b[:] = b - rate * grad_b\n",
    "    return w, b"
   ]
  },
  {
   "cell_type": "code",
   "execution_count": 24,
   "metadata": {
    "collapsed": true
   },
   "outputs": [],
   "source": [
    "epochs = 100\n",
    "learning_rate = .001"
   ]
  },
  {
   "cell_type": "code",
   "execution_count": 25,
   "metadata": {
    "collapsed": false
   },
   "outputs": [],
   "source": [
    "w = np.random.randn(num_features)\n",
    "b = np.random.randn(1)\n",
    "# print(w, b)"
   ]
  },
  {
   "cell_type": "code",
   "execution_count": 26,
   "metadata": {
    "collapsed": false
   },
   "outputs": [
    {
     "name": "stdout",
     "output_type": "stream",
     "text": [
      "2962.70516665\n",
      "2043.47143671\n",
      "1814.63874285\n",
      "1662.1236132\n",
      "1538.67827133\n",
      "1436.39146793\n",
      "1350.99659111\n",
      "1279.12406115\n",
      "1218.05781366\n",
      "1165.64494324\n",
      "1120.19936708\n",
      "1080.40762001\n",
      "1045.24668866\n",
      "1013.9170861\n",
      "985.790476488\n",
      "960.369575552\n",
      "937.25775208\n",
      "916.136034194\n",
      "896.745679059\n",
      "878.874905467\n",
      "862.348748422\n",
      "847.021266639\n",
      "832.76953293\n",
      "819.48898215\n",
      "807.089797379\n",
      "795.494093306\n",
      "784.633714136\n",
      "774.448506977\n",
      "764.884964271\n",
      "755.895153294\n",
      "747.43586908\n",
      "739.467961037\n",
      "731.955794248\n",
      "724.866814787\n",
      "718.171195127\n",
      "711.841541024\n",
      "705.852645652\n",
      "700.181280187\n",
      "694.806012786\n",
      "689.707049993\n",
      "684.866096207\n",
      "680.266227993\n",
      "675.891780865\n",
      "671.72824677\n",
      "667.762180897\n",
      "663.981116758\n",
      "660.373488627\n",
      "656.928560644\n",
      "653.636361914\n",
      "650.487627072\n",
      "647.473741797\n",
      "644.586692856\n",
      "641.819022256\n",
      "639.163785154\n",
      "636.614511187\n",
      "634.16516894\n",
      "631.810133259\n",
      "629.544155183\n",
      "627.362334254\n",
      "625.260093024\n",
      "623.23315355\n",
      "621.27751573\n",
      "619.389437313\n",
      "617.565415456\n",
      "615.802169688\n",
      "614.09662618\n",
      "612.445903207\n",
      "610.847297706\n",
      "609.298272842\n",
      "607.79644651\n",
      "606.339580686\n",
      "604.925571569\n",
      "603.552440449\n",
      "602.218325245\n",
      "600.921472662\n",
      "599.660230915\n",
      "598.433042984\n",
      "597.238440347\n",
      "596.075037175\n",
      "594.941524925\n",
      "593.836667333\n",
      "592.759295751\n",
      "591.708304814\n",
      "590.682648417\n",
      "589.681335963\n",
      "588.703428879\n",
      "587.748037371\n",
      "586.814317399\n",
      "585.901467867\n",
      "585.008727994\n",
      "584.135374873\n",
      "583.280721191\n",
      "582.4441131\n",
      "581.624928234\n",
      "580.822573855\n",
      "580.036485127\n",
      "579.266123496\n",
      "578.510975182\n",
      "577.770549766\n",
      "577.044378875\n"
     ]
    }
   ],
   "source": [
    "for e in range(epochs):\n",
    "    cumulative_lld = 0\n",
    "    for bx, by in train_data:\n",
    "        yhat = logistic_regression(w, b, bx)\n",
    "        lld = log_likelihood(yhat, by)\n",
    "        cumulative_lld += lld\n",
    "        sgd_update(w, b, bx, by, learning_rate)\n",
    "#         print(w, b)\n",
    "    print(cumulative_lld)"
   ]
  },
  {
   "cell_type": "code",
   "execution_count": 27,
   "metadata": {
    "collapsed": false
   },
   "outputs": [
    {
     "name": "stdout",
     "output_type": "stream",
     "text": [
      "0.835508463626\n"
     ]
    }
   ],
   "source": [
    "num_correct = 0.0\n",
    "num_total = len(y_test)\n",
    "for tx, ty in test_data:\n",
    "    yhat = logistic_regression(w, b, tx)\n",
    "    prediction = (np.sign(yhat - 0.5) + 1) / 2\n",
    "    num_correct += np.sum(prediction == ty)\n",
    "print(num_correct / num_total)"
   ]
  }
 ],
 "metadata": {
  "anaconda-cloud": {},
  "kernelspec": {
   "display_name": "Python [conda root]",
   "language": "python",
   "name": "conda-root-py"
  },
  "language_info": {
   "codemirror_mode": {
    "name": "ipython",
    "version": 3
   },
   "file_extension": ".py",
   "mimetype": "text/x-python",
   "name": "python",
   "nbconvert_exporter": "python",
   "pygments_lexer": "ipython3",
   "version": "3.5.2"
  }
 },
 "nbformat": 4,
 "nbformat_minor": 1
}
